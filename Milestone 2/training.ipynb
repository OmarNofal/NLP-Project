{
 "cells": [
  {
   "cell_type": "markdown",
   "metadata": {},
   "source": [
    "# Imports"
   ]
  },
  {
   "cell_type": "code",
   "execution_count": 1,
   "metadata": {},
   "outputs": [],
   "source": [
    "import pandas as pd\n",
    "import pickle\n",
    "import re\n",
    "\n",
    "import torch\n",
    "from torch import nn\n",
    "from torch.optim import Adam\n",
    "\n",
    "import numpy as np\n",
    "\n",
    "import nltk\n",
    "from nltk.tokenize import word_tokenize\n",
    "from nltk.corpus import stopwords\n",
    "\n",
    "from gensim.models import Word2Vec\n",
    "\n",
    "from random import shuffle"
   ]
  },
  {
   "cell_type": "markdown",
   "metadata": {},
   "source": [
    "# Loading and Organzing Data"
   ]
  },
  {
   "cell_type": "code",
   "execution_count": 2,
   "metadata": {},
   "outputs": [
    {
     "data": {
      "text/html": [
       "<div>\n",
       "<style scoped>\n",
       "    .dataframe tbody tr th:only-of-type {\n",
       "        vertical-align: middle;\n",
       "    }\n",
       "\n",
       "    .dataframe tbody tr th {\n",
       "        vertical-align: top;\n",
       "    }\n",
       "\n",
       "    .dataframe thead th {\n",
       "        text-align: right;\n",
       "    }\n",
       "</style>\n",
       "<table border=\"1\" class=\"dataframe\">\n",
       "  <thead>\n",
       "    <tr style=\"text-align: right;\">\n",
       "      <th></th>\n",
       "      <th>tweet_id</th>\n",
       "      <th>author_id</th>\n",
       "      <th>inbound</th>\n",
       "      <th>created_at</th>\n",
       "      <th>text</th>\n",
       "      <th>response_tweet_id</th>\n",
       "      <th>in_response_to_tweet_id</th>\n",
       "    </tr>\n",
       "  </thead>\n",
       "  <tbody>\n",
       "    <tr>\n",
       "      <th>0</th>\n",
       "      <td>1</td>\n",
       "      <td>sprintcare</td>\n",
       "      <td>False</td>\n",
       "      <td>Tue Oct 31 22:10:47 +0000 2017</td>\n",
       "      <td>@115712 I understand. I would like to assist y...</td>\n",
       "      <td>2</td>\n",
       "      <td>3.0</td>\n",
       "    </tr>\n",
       "    <tr>\n",
       "      <th>1</th>\n",
       "      <td>2</td>\n",
       "      <td>115712</td>\n",
       "      <td>True</td>\n",
       "      <td>Tue Oct 31 22:11:45 +0000 2017</td>\n",
       "      <td>@sprintcare and how do you propose we do that</td>\n",
       "      <td>NaN</td>\n",
       "      <td>1.0</td>\n",
       "    </tr>\n",
       "    <tr>\n",
       "      <th>2</th>\n",
       "      <td>3</td>\n",
       "      <td>115712</td>\n",
       "      <td>True</td>\n",
       "      <td>Tue Oct 31 22:08:27 +0000 2017</td>\n",
       "      <td>@sprintcare I have sent several private messag...</td>\n",
       "      <td>1</td>\n",
       "      <td>4.0</td>\n",
       "    </tr>\n",
       "    <tr>\n",
       "      <th>3</th>\n",
       "      <td>4</td>\n",
       "      <td>sprintcare</td>\n",
       "      <td>False</td>\n",
       "      <td>Tue Oct 31 21:54:49 +0000 2017</td>\n",
       "      <td>@115712 Please send us a Private Message so th...</td>\n",
       "      <td>3</td>\n",
       "      <td>5.0</td>\n",
       "    </tr>\n",
       "    <tr>\n",
       "      <th>4</th>\n",
       "      <td>5</td>\n",
       "      <td>115712</td>\n",
       "      <td>True</td>\n",
       "      <td>Tue Oct 31 21:49:35 +0000 2017</td>\n",
       "      <td>@sprintcare I did.</td>\n",
       "      <td>4</td>\n",
       "      <td>6.0</td>\n",
       "    </tr>\n",
       "  </tbody>\n",
       "</table>\n",
       "</div>"
      ],
      "text/plain": [
       "   tweet_id   author_id  inbound                      created_at  \\\n",
       "0         1  sprintcare    False  Tue Oct 31 22:10:47 +0000 2017   \n",
       "1         2      115712     True  Tue Oct 31 22:11:45 +0000 2017   \n",
       "2         3      115712     True  Tue Oct 31 22:08:27 +0000 2017   \n",
       "3         4  sprintcare    False  Tue Oct 31 21:54:49 +0000 2017   \n",
       "4         5      115712     True  Tue Oct 31 21:49:35 +0000 2017   \n",
       "\n",
       "                                                text response_tweet_id  \\\n",
       "0  @115712 I understand. I would like to assist y...                 2   \n",
       "1      @sprintcare and how do you propose we do that               NaN   \n",
       "2  @sprintcare I have sent several private messag...                 1   \n",
       "3  @115712 Please send us a Private Message so th...                 3   \n",
       "4                                 @sprintcare I did.                 4   \n",
       "\n",
       "   in_response_to_tweet_id  \n",
       "0                      3.0  \n",
       "1                      1.0  \n",
       "2                      4.0  \n",
       "3                      5.0  \n",
       "4                      6.0  "
      ]
     },
     "execution_count": 2,
     "metadata": {},
     "output_type": "execute_result"
    }
   ],
   "source": [
    "df = pd.read_csv('twcs/twcs.csv')\n",
    "df.head()"
   ]
  },
  {
   "cell_type": "code",
   "execution_count": 3,
   "metadata": {},
   "outputs": [
    {
     "data": {
      "text/plain": [
       "Index(['tweet_id', 'author_id', 'inbound', 'created_at', 'text',\n",
       "       'response_tweet_id', 'in_response_to_tweet_id'],\n",
       "      dtype='object')"
      ]
     },
     "execution_count": 3,
     "metadata": {},
     "output_type": "execute_result"
    }
   ],
   "source": [
    "df.columns"
   ]
  },
  {
   "cell_type": "code",
   "execution_count": 4,
   "metadata": {},
   "outputs": [],
   "source": [
    "df = df.drop(['created_at'], axis=1)"
   ]
  },
  {
   "cell_type": "code",
   "execution_count": 5,
   "metadata": {},
   "outputs": [
    {
     "data": {
      "text/html": [
       "<div>\n",
       "<style scoped>\n",
       "    .dataframe tbody tr th:only-of-type {\n",
       "        vertical-align: middle;\n",
       "    }\n",
       "\n",
       "    .dataframe tbody tr th {\n",
       "        vertical-align: top;\n",
       "    }\n",
       "\n",
       "    .dataframe thead th {\n",
       "        text-align: right;\n",
       "    }\n",
       "</style>\n",
       "<table border=\"1\" class=\"dataframe\">\n",
       "  <thead>\n",
       "    <tr style=\"text-align: right;\">\n",
       "      <th></th>\n",
       "      <th>tweet_id</th>\n",
       "      <th>author_id</th>\n",
       "      <th>inbound</th>\n",
       "      <th>text</th>\n",
       "      <th>response_tweet_id</th>\n",
       "      <th>in_response_to_tweet_id</th>\n",
       "    </tr>\n",
       "  </thead>\n",
       "  <tbody>\n",
       "    <tr>\n",
       "      <th>0</th>\n",
       "      <td>1</td>\n",
       "      <td>sprintcare</td>\n",
       "      <td>False</td>\n",
       "      <td>@115712 I understand. I would like to assist y...</td>\n",
       "      <td>2</td>\n",
       "      <td>3.0</td>\n",
       "    </tr>\n",
       "    <tr>\n",
       "      <th>1</th>\n",
       "      <td>2</td>\n",
       "      <td>115712</td>\n",
       "      <td>True</td>\n",
       "      <td>@sprintcare and how do you propose we do that</td>\n",
       "      <td>NaN</td>\n",
       "      <td>1.0</td>\n",
       "    </tr>\n",
       "    <tr>\n",
       "      <th>2</th>\n",
       "      <td>3</td>\n",
       "      <td>115712</td>\n",
       "      <td>True</td>\n",
       "      <td>@sprintcare I have sent several private messag...</td>\n",
       "      <td>1</td>\n",
       "      <td>4.0</td>\n",
       "    </tr>\n",
       "    <tr>\n",
       "      <th>3</th>\n",
       "      <td>4</td>\n",
       "      <td>sprintcare</td>\n",
       "      <td>False</td>\n",
       "      <td>@115712 Please send us a Private Message so th...</td>\n",
       "      <td>3</td>\n",
       "      <td>5.0</td>\n",
       "    </tr>\n",
       "    <tr>\n",
       "      <th>4</th>\n",
       "      <td>5</td>\n",
       "      <td>115712</td>\n",
       "      <td>True</td>\n",
       "      <td>@sprintcare I did.</td>\n",
       "      <td>4</td>\n",
       "      <td>6.0</td>\n",
       "    </tr>\n",
       "  </tbody>\n",
       "</table>\n",
       "</div>"
      ],
      "text/plain": [
       "   tweet_id   author_id  inbound  \\\n",
       "0         1  sprintcare    False   \n",
       "1         2      115712     True   \n",
       "2         3      115712     True   \n",
       "3         4  sprintcare    False   \n",
       "4         5      115712     True   \n",
       "\n",
       "                                                text response_tweet_id  \\\n",
       "0  @115712 I understand. I would like to assist y...                 2   \n",
       "1      @sprintcare and how do you propose we do that               NaN   \n",
       "2  @sprintcare I have sent several private messag...                 1   \n",
       "3  @115712 Please send us a Private Message so th...                 3   \n",
       "4                                 @sprintcare I did.                 4   \n",
       "\n",
       "   in_response_to_tweet_id  \n",
       "0                      3.0  \n",
       "1                      1.0  \n",
       "2                      4.0  \n",
       "3                      5.0  \n",
       "4                      6.0  "
      ]
     },
     "execution_count": 5,
     "metadata": {},
     "output_type": "execute_result"
    }
   ],
   "source": [
    "df.head()"
   ]
  },
  {
   "cell_type": "code",
   "execution_count": 6,
   "metadata": {},
   "outputs": [],
   "source": [
    "df = df.set_index(\"tweet_id\")"
   ]
  },
  {
   "cell_type": "code",
   "execution_count": 7,
   "metadata": {},
   "outputs": [
    {
     "data": {
      "text/html": [
       "<div>\n",
       "<style scoped>\n",
       "    .dataframe tbody tr th:only-of-type {\n",
       "        vertical-align: middle;\n",
       "    }\n",
       "\n",
       "    .dataframe tbody tr th {\n",
       "        vertical-align: top;\n",
       "    }\n",
       "\n",
       "    .dataframe thead th {\n",
       "        text-align: right;\n",
       "    }\n",
       "</style>\n",
       "<table border=\"1\" class=\"dataframe\">\n",
       "  <thead>\n",
       "    <tr style=\"text-align: right;\">\n",
       "      <th></th>\n",
       "      <th>author_id</th>\n",
       "      <th>inbound</th>\n",
       "      <th>text</th>\n",
       "      <th>response_tweet_id</th>\n",
       "      <th>in_response_to_tweet_id</th>\n",
       "    </tr>\n",
       "    <tr>\n",
       "      <th>tweet_id</th>\n",
       "      <th></th>\n",
       "      <th></th>\n",
       "      <th></th>\n",
       "      <th></th>\n",
       "      <th></th>\n",
       "    </tr>\n",
       "  </thead>\n",
       "  <tbody>\n",
       "    <tr>\n",
       "      <th>1</th>\n",
       "      <td>sprintcare</td>\n",
       "      <td>False</td>\n",
       "      <td>@115712 I understand. I would like to assist y...</td>\n",
       "      <td>2</td>\n",
       "      <td>3.0</td>\n",
       "    </tr>\n",
       "    <tr>\n",
       "      <th>2</th>\n",
       "      <td>115712</td>\n",
       "      <td>True</td>\n",
       "      <td>@sprintcare and how do you propose we do that</td>\n",
       "      <td>NaN</td>\n",
       "      <td>1.0</td>\n",
       "    </tr>\n",
       "    <tr>\n",
       "      <th>3</th>\n",
       "      <td>115712</td>\n",
       "      <td>True</td>\n",
       "      <td>@sprintcare I have sent several private messag...</td>\n",
       "      <td>1</td>\n",
       "      <td>4.0</td>\n",
       "    </tr>\n",
       "    <tr>\n",
       "      <th>4</th>\n",
       "      <td>sprintcare</td>\n",
       "      <td>False</td>\n",
       "      <td>@115712 Please send us a Private Message so th...</td>\n",
       "      <td>3</td>\n",
       "      <td>5.0</td>\n",
       "    </tr>\n",
       "    <tr>\n",
       "      <th>5</th>\n",
       "      <td>115712</td>\n",
       "      <td>True</td>\n",
       "      <td>@sprintcare I did.</td>\n",
       "      <td>4</td>\n",
       "      <td>6.0</td>\n",
       "    </tr>\n",
       "    <tr>\n",
       "      <th>6</th>\n",
       "      <td>sprintcare</td>\n",
       "      <td>False</td>\n",
       "      <td>@115712 Can you please send us a private messa...</td>\n",
       "      <td>5,7</td>\n",
       "      <td>8.0</td>\n",
       "    </tr>\n",
       "    <tr>\n",
       "      <th>8</th>\n",
       "      <td>115712</td>\n",
       "      <td>True</td>\n",
       "      <td>@sprintcare is the worst customer service</td>\n",
       "      <td>9,6,10</td>\n",
       "      <td>NaN</td>\n",
       "    </tr>\n",
       "    <tr>\n",
       "      <th>11</th>\n",
       "      <td>sprintcare</td>\n",
       "      <td>False</td>\n",
       "      <td>@115713 This is saddening to hear. Please shoo...</td>\n",
       "      <td>NaN</td>\n",
       "      <td>12.0</td>\n",
       "    </tr>\n",
       "    <tr>\n",
       "      <th>12</th>\n",
       "      <td>115713</td>\n",
       "      <td>True</td>\n",
       "      <td>@sprintcare You gonna magically change your co...</td>\n",
       "      <td>11,13,14</td>\n",
       "      <td>15.0</td>\n",
       "    </tr>\n",
       "    <tr>\n",
       "      <th>15</th>\n",
       "      <td>sprintcare</td>\n",
       "      <td>False</td>\n",
       "      <td>@115713 We understand your concerns and we'd l...</td>\n",
       "      <td>12</td>\n",
       "      <td>16.0</td>\n",
       "    </tr>\n",
       "  </tbody>\n",
       "</table>\n",
       "</div>"
      ],
      "text/plain": [
       "           author_id  inbound  \\\n",
       "tweet_id                        \n",
       "1         sprintcare    False   \n",
       "2             115712     True   \n",
       "3             115712     True   \n",
       "4         sprintcare    False   \n",
       "5             115712     True   \n",
       "6         sprintcare    False   \n",
       "8             115712     True   \n",
       "11        sprintcare    False   \n",
       "12            115713     True   \n",
       "15        sprintcare    False   \n",
       "\n",
       "                                                       text response_tweet_id  \\\n",
       "tweet_id                                                                        \n",
       "1         @115712 I understand. I would like to assist y...                 2   \n",
       "2             @sprintcare and how do you propose we do that               NaN   \n",
       "3         @sprintcare I have sent several private messag...                 1   \n",
       "4         @115712 Please send us a Private Message so th...                 3   \n",
       "5                                        @sprintcare I did.                 4   \n",
       "6         @115712 Can you please send us a private messa...               5,7   \n",
       "8                 @sprintcare is the worst customer service            9,6,10   \n",
       "11        @115713 This is saddening to hear. Please shoo...               NaN   \n",
       "12        @sprintcare You gonna magically change your co...          11,13,14   \n",
       "15        @115713 We understand your concerns and we'd l...                12   \n",
       "\n",
       "          in_response_to_tweet_id  \n",
       "tweet_id                           \n",
       "1                             3.0  \n",
       "2                             1.0  \n",
       "3                             4.0  \n",
       "4                             5.0  \n",
       "5                             6.0  \n",
       "6                             8.0  \n",
       "8                             NaN  \n",
       "11                           12.0  \n",
       "12                           15.0  \n",
       "15                           16.0  "
      ]
     },
     "execution_count": 7,
     "metadata": {},
     "output_type": "execute_result"
    }
   ],
   "source": [
    "df.head(10)"
   ]
  },
  {
   "cell_type": "code",
   "execution_count": 8,
   "metadata": {},
   "outputs": [
    {
     "data": {
      "text/html": [
       "<div>\n",
       "<style scoped>\n",
       "    .dataframe tbody tr th:only-of-type {\n",
       "        vertical-align: middle;\n",
       "    }\n",
       "\n",
       "    .dataframe tbody tr th {\n",
       "        vertical-align: top;\n",
       "    }\n",
       "\n",
       "    .dataframe thead th {\n",
       "        text-align: right;\n",
       "    }\n",
       "</style>\n",
       "<table border=\"1\" class=\"dataframe\">\n",
       "  <thead>\n",
       "    <tr style=\"text-align: right;\">\n",
       "      <th></th>\n",
       "      <th>author_id</th>\n",
       "      <th>inbound</th>\n",
       "      <th>text</th>\n",
       "      <th>response_tweet_id</th>\n",
       "      <th>in_response_to_tweet_id</th>\n",
       "    </tr>\n",
       "    <tr>\n",
       "      <th>tweet_id</th>\n",
       "      <th></th>\n",
       "      <th></th>\n",
       "      <th></th>\n",
       "      <th></th>\n",
       "      <th></th>\n",
       "    </tr>\n",
       "  </thead>\n",
       "  <tbody>\n",
       "    <tr>\n",
       "      <th>2</th>\n",
       "      <td>115712</td>\n",
       "      <td>True</td>\n",
       "      <td>@sprintcare and how do you propose we do that</td>\n",
       "      <td>NaN</td>\n",
       "      <td>1.0</td>\n",
       "    </tr>\n",
       "    <tr>\n",
       "      <th>3</th>\n",
       "      <td>115712</td>\n",
       "      <td>True</td>\n",
       "      <td>@sprintcare I have sent several private messag...</td>\n",
       "      <td>1</td>\n",
       "      <td>4.0</td>\n",
       "    </tr>\n",
       "    <tr>\n",
       "      <th>5</th>\n",
       "      <td>115712</td>\n",
       "      <td>True</td>\n",
       "      <td>@sprintcare I did.</td>\n",
       "      <td>4</td>\n",
       "      <td>6.0</td>\n",
       "    </tr>\n",
       "    <tr>\n",
       "      <th>8</th>\n",
       "      <td>115712</td>\n",
       "      <td>True</td>\n",
       "      <td>@sprintcare is the worst customer service</td>\n",
       "      <td>9,6,10</td>\n",
       "      <td>NaN</td>\n",
       "    </tr>\n",
       "    <tr>\n",
       "      <th>1292</th>\n",
       "      <td>115712</td>\n",
       "      <td>True</td>\n",
       "      <td>@sprintcare I've sent several private messages...</td>\n",
       "      <td>1294</td>\n",
       "      <td>1291.0</td>\n",
       "    </tr>\n",
       "    <tr>\n",
       "      <th>1295</th>\n",
       "      <td>115712</td>\n",
       "      <td>True</td>\n",
       "      <td>@sprintcare I sent it twice now to apparently ...</td>\n",
       "      <td>NaN</td>\n",
       "      <td>1294.0</td>\n",
       "    </tr>\n",
       "    <tr>\n",
       "      <th>1293</th>\n",
       "      <td>115712</td>\n",
       "      <td>True</td>\n",
       "      <td>@115714 @sprintcare how can I get in touch wit...</td>\n",
       "      <td>1291,1296,1297</td>\n",
       "      <td>NaN</td>\n",
       "    </tr>\n",
       "    <tr>\n",
       "      <th>3185</th>\n",
       "      <td>115712</td>\n",
       "      <td>True</td>\n",
       "      <td>@sprintcare complete ineptness!</td>\n",
       "      <td>3184</td>\n",
       "      <td>3186.0</td>\n",
       "    </tr>\n",
       "    <tr>\n",
       "      <th>3186</th>\n",
       "      <td>115712</td>\n",
       "      <td>True</td>\n",
       "      <td>@sprintcare I am not surprised because nothing...</td>\n",
       "      <td>3185</td>\n",
       "      <td>3187.0</td>\n",
       "    </tr>\n",
       "    <tr>\n",
       "      <th>3188</th>\n",
       "      <td>115712</td>\n",
       "      <td>True</td>\n",
       "      <td>@116447 - And the issue is still not fixed!  N...</td>\n",
       "      <td>3187</td>\n",
       "      <td>NaN</td>\n",
       "    </tr>\n",
       "    <tr>\n",
       "      <th>7</th>\n",
       "      <td>115712</td>\n",
       "      <td>True</td>\n",
       "      <td>@sprintcare the only way I can get a response ...</td>\n",
       "      <td>NaN</td>\n",
       "      <td>6.0</td>\n",
       "    </tr>\n",
       "  </tbody>\n",
       "</table>\n",
       "</div>"
      ],
      "text/plain": [
       "         author_id  inbound  \\\n",
       "tweet_id                      \n",
       "2           115712     True   \n",
       "3           115712     True   \n",
       "5           115712     True   \n",
       "8           115712     True   \n",
       "1292        115712     True   \n",
       "1295        115712     True   \n",
       "1293        115712     True   \n",
       "3185        115712     True   \n",
       "3186        115712     True   \n",
       "3188        115712     True   \n",
       "7           115712     True   \n",
       "\n",
       "                                                       text response_tweet_id  \\\n",
       "tweet_id                                                                        \n",
       "2             @sprintcare and how do you propose we do that               NaN   \n",
       "3         @sprintcare I have sent several private messag...                 1   \n",
       "5                                        @sprintcare I did.                 4   \n",
       "8                 @sprintcare is the worst customer service            9,6,10   \n",
       "1292      @sprintcare I've sent several private messages...              1294   \n",
       "1295      @sprintcare I sent it twice now to apparently ...               NaN   \n",
       "1293      @115714 @sprintcare how can I get in touch wit...    1291,1296,1297   \n",
       "3185                        @sprintcare complete ineptness!              3184   \n",
       "3186      @sprintcare I am not surprised because nothing...              3185   \n",
       "3188      @116447 - And the issue is still not fixed!  N...              3187   \n",
       "7         @sprintcare the only way I can get a response ...               NaN   \n",
       "\n",
       "          in_response_to_tweet_id  \n",
       "tweet_id                           \n",
       "2                             1.0  \n",
       "3                             4.0  \n",
       "5                             6.0  \n",
       "8                             NaN  \n",
       "1292                       1291.0  \n",
       "1295                       1294.0  \n",
       "1293                          NaN  \n",
       "3185                       3186.0  \n",
       "3186                       3187.0  \n",
       "3188                          NaN  \n",
       "7                             6.0  "
      ]
     },
     "execution_count": 8,
     "metadata": {},
     "output_type": "execute_result"
    }
   ],
   "source": [
    "df.loc[df.author_id == \"115712\"]"
   ]
  },
  {
   "cell_type": "code",
   "execution_count": 9,
   "metadata": {},
   "outputs": [
    {
     "data": {
      "text/plain": [
       "Index(['author_id', 'inbound', 'text', 'response_tweet_id',\n",
       "       'in_response_to_tweet_id'],\n",
       "      dtype='object')"
      ]
     },
     "execution_count": 9,
     "metadata": {},
     "output_type": "execute_result"
    }
   ],
   "source": [
    "df.columns"
   ]
  },
  {
   "cell_type": "code",
   "execution_count": 10,
   "metadata": {},
   "outputs": [
    {
     "name": "stdout",
     "output_type": "stream",
     "text": [
      "<class 'pandas.core.frame.DataFrame'>\n",
      "Index: 2811774 entries, 1 to 2987950\n",
      "Data columns (total 5 columns):\n",
      " #   Column                   Dtype  \n",
      "---  ------                   -----  \n",
      " 0   author_id                object \n",
      " 1   inbound                  bool   \n",
      " 2   text                     object \n",
      " 3   response_tweet_id        object \n",
      " 4   in_response_to_tweet_id  float64\n",
      "dtypes: bool(1), float64(1), object(3)\n",
      "memory usage: 109.9+ MB\n"
     ]
    }
   ],
   "source": [
    "df.info()"
   ]
  },
  {
   "cell_type": "code",
   "execution_count": 11,
   "metadata": {},
   "outputs": [],
   "source": [
    "df.in_response_to_tweet_id = df.in_response_to_tweet_id.fillna(-1)\n",
    "df.in_response_to_tweet_id = df.in_response_to_tweet_id.astype(int)"
   ]
  },
  {
   "cell_type": "code",
   "execution_count": 12,
   "metadata": {},
   "outputs": [
    {
     "data": {
      "text/plain": [
       "count     1771145\n",
       "unique    1771145\n",
       "top             2\n",
       "freq            1\n",
       "Name: response_tweet_id, dtype: object"
      ]
     },
     "execution_count": 12,
     "metadata": {},
     "output_type": "execute_result"
    }
   ],
   "source": [
    "df.response_tweet_id = df.response_tweet_id.apply(lambda x: x if x != \"NaN\" else -1)\n",
    "df.response_tweet_id.describe()"
   ]
  },
  {
   "cell_type": "code",
   "execution_count": 13,
   "metadata": {},
   "outputs": [],
   "source": [
    "from dataclasses import dataclass\n",
    "\n",
    "@dataclass\n",
    "class Tweet:\n",
    "\n",
    "    id: int\n",
    "    author_id: str | int\n",
    "    is_customer: bool\n",
    "    text: str\n",
    "    response_tweets_ids: list[int] | None\n",
    "    in_response_to_tweet_id: int | None\n"
   ]
  },
  {
   "cell_type": "code",
   "execution_count": 14,
   "metadata": {},
   "outputs": [],
   "source": [
    "#Map all to tweet objects\n",
    "tweets: list[Tweet] = []\n",
    "\n",
    "\n",
    "def row_to_tweet(df: pd.Series):\n",
    "    return Tweet(\n",
    "        id=df.index,\n",
    "        author_id=df.author_id,\n",
    "        is_customer=df.inbound,\n",
    "        text=df.text,\n",
    "        response_tweets_ids=list(map(int, df.response_tweet_id.split(' '))) if df.response_tweet_id != 'NaN' else None,\n",
    "        in_response_to_tweet_id= df.in_response_to_tweet_id if df.in_response_to_tweet_id != -1 else None\n",
    "    )\n"
   ]
  },
  {
   "cell_type": "code",
   "execution_count": 15,
   "metadata": {},
   "outputs": [],
   "source": [
    "conversation_starts = df.loc[df.in_response_to_tweet_id == -1]"
   ]
  },
  {
   "cell_type": "code",
   "execution_count": 16,
   "metadata": {},
   "outputs": [
    {
     "data": {
      "text/html": [
       "<div>\n",
       "<style scoped>\n",
       "    .dataframe tbody tr th:only-of-type {\n",
       "        vertical-align: middle;\n",
       "    }\n",
       "\n",
       "    .dataframe tbody tr th {\n",
       "        vertical-align: top;\n",
       "    }\n",
       "\n",
       "    .dataframe thead th {\n",
       "        text-align: right;\n",
       "    }\n",
       "</style>\n",
       "<table border=\"1\" class=\"dataframe\">\n",
       "  <thead>\n",
       "    <tr style=\"text-align: right;\">\n",
       "      <th></th>\n",
       "      <th>author_id</th>\n",
       "      <th>inbound</th>\n",
       "      <th>text</th>\n",
       "      <th>response_tweet_id</th>\n",
       "      <th>in_response_to_tweet_id</th>\n",
       "    </tr>\n",
       "    <tr>\n",
       "      <th>tweet_id</th>\n",
       "      <th></th>\n",
       "      <th></th>\n",
       "      <th></th>\n",
       "      <th></th>\n",
       "      <th></th>\n",
       "    </tr>\n",
       "  </thead>\n",
       "  <tbody>\n",
       "    <tr>\n",
       "      <th>8</th>\n",
       "      <td>115712</td>\n",
       "      <td>True</td>\n",
       "      <td>@sprintcare is the worst customer service</td>\n",
       "      <td>9,6,10</td>\n",
       "      <td>-1</td>\n",
       "    </tr>\n",
       "    <tr>\n",
       "      <th>18</th>\n",
       "      <td>115713</td>\n",
       "      <td>True</td>\n",
       "      <td>@115714 y’all lie about your “great” connectio...</td>\n",
       "      <td>17</td>\n",
       "      <td>-1</td>\n",
       "    </tr>\n",
       "    <tr>\n",
       "      <th>20</th>\n",
       "      <td>115715</td>\n",
       "      <td>True</td>\n",
       "      <td>@115714 whenever I contact customer support, t...</td>\n",
       "      <td>19</td>\n",
       "      <td>-1</td>\n",
       "    </tr>\n",
       "    <tr>\n",
       "      <th>29</th>\n",
       "      <td>115716</td>\n",
       "      <td>True</td>\n",
       "      <td>actually that's a broken link you sent me and ...</td>\n",
       "      <td>28</td>\n",
       "      <td>-1</td>\n",
       "    </tr>\n",
       "    <tr>\n",
       "      <th>31</th>\n",
       "      <td>115717</td>\n",
       "      <td>True</td>\n",
       "      <td>Yo @Ask_Spectrum, your customer service reps a...</td>\n",
       "      <td>30</td>\n",
       "      <td>-1</td>\n",
       "    </tr>\n",
       "    <tr>\n",
       "      <th>...</th>\n",
       "      <td>...</td>\n",
       "      <td>...</td>\n",
       "      <td>...</td>\n",
       "      <td>...</td>\n",
       "      <td>...</td>\n",
       "    </tr>\n",
       "    <tr>\n",
       "      <th>2987942</th>\n",
       "      <td>823867</td>\n",
       "      <td>True</td>\n",
       "      <td>Hai @AirAsiaSupport #asking how many days need...</td>\n",
       "      <td>2987941</td>\n",
       "      <td>-1</td>\n",
       "    </tr>\n",
       "    <tr>\n",
       "      <th>2987944</th>\n",
       "      <td>823868</td>\n",
       "      <td>True</td>\n",
       "      <td>@AirAsiaSupport \\n\\nI am unable to do web chec...</td>\n",
       "      <td>2987943</td>\n",
       "      <td>-1</td>\n",
       "    </tr>\n",
       "    <tr>\n",
       "      <th>2987946</th>\n",
       "      <td>524544</td>\n",
       "      <td>True</td>\n",
       "      <td>@VirginTrains Hope you are well? Does the 9.30...</td>\n",
       "      <td>2987945</td>\n",
       "      <td>-1</td>\n",
       "    </tr>\n",
       "    <tr>\n",
       "      <th>2987948</th>\n",
       "      <td>823869</td>\n",
       "      <td>True</td>\n",
       "      <td>@115714 wtf!? I’ve been having really shitty s...</td>\n",
       "      <td>2987947</td>\n",
       "      <td>-1</td>\n",
       "    </tr>\n",
       "    <tr>\n",
       "      <th>2987950</th>\n",
       "      <td>823870</td>\n",
       "      <td>True</td>\n",
       "      <td>@AldiUK  warm sloe gin mince pies with ice cre...</td>\n",
       "      <td>2987951,2987949</td>\n",
       "      <td>-1</td>\n",
       "    </tr>\n",
       "  </tbody>\n",
       "</table>\n",
       "<p>794335 rows × 5 columns</p>\n",
       "</div>"
      ],
      "text/plain": [
       "         author_id  inbound  \\\n",
       "tweet_id                      \n",
       "8           115712     True   \n",
       "18          115713     True   \n",
       "20          115715     True   \n",
       "29          115716     True   \n",
       "31          115717     True   \n",
       "...            ...      ...   \n",
       "2987942     823867     True   \n",
       "2987944     823868     True   \n",
       "2987946     524544     True   \n",
       "2987948     823869     True   \n",
       "2987950     823870     True   \n",
       "\n",
       "                                                       text response_tweet_id  \\\n",
       "tweet_id                                                                        \n",
       "8                 @sprintcare is the worst customer service            9,6,10   \n",
       "18        @115714 y’all lie about your “great” connectio...                17   \n",
       "20        @115714 whenever I contact customer support, t...                19   \n",
       "29        actually that's a broken link you sent me and ...                28   \n",
       "31        Yo @Ask_Spectrum, your customer service reps a...                30   \n",
       "...                                                     ...               ...   \n",
       "2987942   Hai @AirAsiaSupport #asking how many days need...           2987941   \n",
       "2987944   @AirAsiaSupport \\n\\nI am unable to do web chec...           2987943   \n",
       "2987946   @VirginTrains Hope you are well? Does the 9.30...           2987945   \n",
       "2987948   @115714 wtf!? I’ve been having really shitty s...           2987947   \n",
       "2987950   @AldiUK  warm sloe gin mince pies with ice cre...   2987951,2987949   \n",
       "\n",
       "          in_response_to_tweet_id  \n",
       "tweet_id                           \n",
       "8                              -1  \n",
       "18                             -1  \n",
       "20                             -1  \n",
       "29                             -1  \n",
       "31                             -1  \n",
       "...                           ...  \n",
       "2987942                        -1  \n",
       "2987944                        -1  \n",
       "2987946                        -1  \n",
       "2987948                        -1  \n",
       "2987950                        -1  \n",
       "\n",
       "[794335 rows x 5 columns]"
      ]
     },
     "execution_count": 16,
     "metadata": {},
     "output_type": "execute_result"
    }
   ],
   "source": [
    "conversation_starts"
   ]
  },
  {
   "cell_type": "code",
   "execution_count": 17,
   "metadata": {},
   "outputs": [
    {
     "data": {
      "text/plain": [
       "count             794335\n",
       "unique            631099\n",
       "top       Safaricom_Care\n",
       "freq                 606\n",
       "Name: author_id, dtype: object"
      ]
     },
     "execution_count": 17,
     "metadata": {},
     "output_type": "execute_result"
    }
   ],
   "source": [
    "conversation_starts.author_id.describe()"
   ]
  },
  {
   "cell_type": "markdown",
   "metadata": {},
   "source": [
    "### Here, we generate the conversations objects from the tweets"
   ]
  },
  {
   "cell_type": "code",
   "execution_count": 18,
   "metadata": {},
   "outputs": [],
   "source": [
    "@dataclass\n",
    "class ConversationEntry:\n",
    "\n",
    "    is_customer: bool\n",
    "    text: str\n",
    "\n",
    "@dataclass\n",
    "class Conversation:\n",
    "\n",
    "    customer_id: int\n",
    "    brand_name: str\n",
    "    entries: list[ConversationEntry] # this alternates between customer entry and agent entry"
   ]
  },
  {
   "cell_type": "code",
   "execution_count": 19,
   "metadata": {},
   "outputs": [],
   "source": [
    "import os\n",
    "\n",
    "convos: list[Conversation] = list()\n",
    "\n",
    "if os.path.exists('convos.pkl'):\n",
    "    with open('convos.pkl', 'rb') as f:\n",
    "        convos = pickle.load(f)\n",
    "else:\n",
    "    num_conversation = 0\n",
    "    for (index, row) in conversation_starts.iterrows():\n",
    "\n",
    "        # if the thread is not started by a customer, then skip it\n",
    "        if not row.iloc[0].isdigit():\n",
    "            continue\n",
    "\n",
    "        convo_entries: list[ConversationEntry] = []\n",
    "\n",
    "        tweet_queue = [(index, row)]\n",
    "        convo_entry: ConversationEntry | None = None\n",
    "\n",
    "        brand_name = \"\"\n",
    "\n",
    "        while len(tweet_queue) > 0:\n",
    "            tweet_id, tweet_row = tweet_queue.pop(0)\n",
    "\n",
    "            is_customer = tweet_row.iloc[0].isdigit()\n",
    "            if convo_entry == None:\n",
    "                convo_entry = ConversationEntry(is_customer, text='')\n",
    "            if convo_entry.is_customer != is_customer:\n",
    "                convo_entries.append(convo_entry)\n",
    "                convo_entry = ConversationEntry(is_customer, text='')\n",
    "\n",
    "\n",
    "            if not is_customer:\n",
    "                brand_name = tweet_row.iloc[0] \n",
    "\n",
    "            text = str(tweet_row.iloc[2]).strip()\n",
    "            convo_entry.text += ' ' + text\n",
    "\n",
    "            response_tweet_ids = list(map(int, str(tweet_row.iloc[3]).split(','))) if not pd.isnull(tweet_row.iloc[3]) else []\n",
    "            for res in response_tweet_ids:\n",
    "                if res not in df.index:\n",
    "                    continue\n",
    "                new_row = df.loc[res].squeeze()\n",
    "                tweet_queue.append((res, new_row))\n",
    "\n",
    "        if convo_entry != None:\n",
    "            convo_entries.append(convo_entry)\n",
    "\n",
    "        convo = Conversation(\n",
    "            customer_id=int(row.iloc[0]),\n",
    "            brand_name=brand_name,\n",
    "            entries=convo_entries\n",
    "        )\n",
    "        convos.append(convo)\n",
    "\n",
    "        num_conversation += 1\n",
    "        if num_conversation % 10000 == 0:\n",
    "            print(\"Conversation #\", num_conversation)"
   ]
  },
  {
   "cell_type": "code",
   "execution_count": 20,
   "metadata": {},
   "outputs": [],
   "source": [
    "# Save convos\n",
    "with open('convos.pkl', 'wb') as f:\n",
    "    pickle.dump(convos, f)\n",
    "\n"
   ]
  },
  {
   "cell_type": "code",
   "execution_count": 21,
   "metadata": {},
   "outputs": [
    {
     "data": {
      "text/plain": [
       "787346"
      ]
     },
     "execution_count": 21,
     "metadata": {},
     "output_type": "execute_result"
    }
   ],
   "source": [
    "len(convos)"
   ]
  },
  {
   "cell_type": "code",
   "execution_count": 22,
   "metadata": {},
   "outputs": [],
   "source": [
    "def print_convo(convo: Conversation):\n",
    "    for entry in convo.entries:\n",
    "        print(convo.customer_id if entry.is_customer else convo.brand_name, end = '> ')\n",
    "        print(entry.text)"
   ]
  },
  {
   "cell_type": "code",
   "execution_count": 23,
   "metadata": {},
   "outputs": [
    {
     "name": "stdout",
     "output_type": "stream",
     "text": [
      "115713>  @115714 y’all lie about your “great” connection. 5 bars LTE, still won’t load something. Smh.\n",
      "sprintcare>  @115713 H there! We'd definitely like to work with you on this, how long have you been experiencing this issue? -AA\n",
      "115713>  @sprintcare Since I signed up with you....Since day 1\n",
      "sprintcare>  @115713 We understand your concerns and we'd like for you to please send us a Direct Message, so that we can further assist you. -AA\n",
      "115713>  @sprintcare You gonna magically change your connectivity for me and my whole family ? 🤥 💯\n",
      "sprintcare>  @115713 This is saddening to hear. Please shoot us a DM, so that we can look into this for you. -KC @115713 I would really like to work with you to have this resolved. Kindly send us a DM. I'm here for you! -ResolutionSup SR @115713 Hi, my name is Shantel, I'm a resolution supervisor here with Sprint. Your issues was brought to my attention.  1/2 -ResolutionSup SR\n"
     ]
    }
   ],
   "source": [
    "print_convo(convos[1])"
   ]
  },
  {
   "cell_type": "code",
   "execution_count": 24,
   "metadata": {},
   "outputs": [],
   "source": [
    "@dataclass\n",
    "class ConversationsStatistics:\n",
    "    \n",
    "    num_convos: int\n",
    "    total_num_messages: int\n",
    "    avg_num_messages: int\n",
    "    avg_msg_len_charachters: int\n",
    "\n",
    "\n",
    "def get_convos_statistics(convos: list[Conversation]):\n",
    "    \n",
    "    # 1\n",
    "    num_convos = len(convos)\n",
    "\n",
    "    # 2\n",
    "    total_num_messages = 0\n",
    "    total_msgs_len = 0\n",
    "\n",
    "    for c in convos:\n",
    "        total_num_messages += len(c.entries)\n",
    "        for e in c.entries:\n",
    "            total_msgs_len += len(e.text)\n",
    "    \n",
    "    return ConversationsStatistics(\n",
    "        num_convos, \n",
    "        total_num_messages, \n",
    "        total_num_messages / num_convos, \n",
    "        total_msgs_len / total_num_messages\n",
    "    )"
   ]
  },
  {
   "cell_type": "code",
   "execution_count": 25,
   "metadata": {},
   "outputs": [
    {
     "data": {
      "text/plain": [
       "ConversationsStatistics(num_convos=787346, total_num_messages=2336382, avg_num_messages=2.9674145801210647, avg_msg_len_charachters=133.88451118010667)"
      ]
     },
     "execution_count": 25,
     "metadata": {},
     "output_type": "execute_result"
    }
   ],
   "source": [
    "get_convos_statistics(convos)"
   ]
  },
  {
   "cell_type": "markdown",
   "metadata": {},
   "source": [
    "# Cleaning"
   ]
  },
  {
   "cell_type": "code",
   "execution_count": 26,
   "metadata": {},
   "outputs": [],
   "source": [
    "def clean_message(text: str):\n",
    "    # Remove links\n",
    "    text = re.sub(r'http\\S+', '', text)\n",
    "    \n",
    "    # Lowercase the text\n",
    "    text = text.lower()\n",
    "    \n",
    "    # Remove mentions \n",
    "    text = re.sub(r'@\\w+', '', text)\n",
    "    \n",
    "    # Remove non-ascii characters (to remove emojis, and other languages maybe)\n",
    "    text = ''.join(char for char in text if ord(char) < 128)\n",
    "\n",
    "    return text.strip()\n",
    "    "
   ]
  },
  {
   "cell_type": "markdown",
   "metadata": {},
   "source": [
    "Before cleaning"
   ]
  },
  {
   "cell_type": "code",
   "execution_count": 27,
   "metadata": {},
   "outputs": [
    {
     "name": "stdout",
     "output_type": "stream",
     "text": [
      "115861>  Hello, internet. Can someone explain why this symbol keeps appearing on my phone and when I️ try to type the letter I️? Also @AppleSupport https://t.co/QKwvTLtiN7\n",
      "AppleSupport>  @115861 You're in the right place; we'll do all we can to help. To start, let us know what iOS version is installed via DM: https://t.co/GDrqU22YpT\n",
      "115861>  @AppleSupport @115861 We’re going to need you to share the answers Angela. I️ can’t stand this! @115862 @AppleSupport I will! @115861 @115862 @AppleSupport I️ upgraded. I️t didn’t work.\n",
      "AppleSupport>  @115860 Reach out to us via DM, and we can take a look at this with you. https://t.co/GDrqU22YpT\n",
      "115861>  @115860 @115862 @AppleSupport Didn’t work for me either😔\n"
     ]
    }
   ],
   "source": [
    "print_convo(convos[100])"
   ]
  },
  {
   "cell_type": "markdown",
   "metadata": {},
   "source": [
    "Cleaning"
   ]
  },
  {
   "cell_type": "code",
   "execution_count": 28,
   "metadata": {},
   "outputs": [],
   "source": [
    "import dataclasses\n",
    "\n",
    "def clean_convos(convos: list[Conversation], copy=True):\n",
    "    if copy:\n",
    "        new_convos: list[Conversation] = []\n",
    "\n",
    "    for c in convos:\n",
    "        if copy:\n",
    "            new_entries: list[ConversationEntry] = []\n",
    "\n",
    "        for e in c.entries:\n",
    "            cleaned_message = clean_message(e.text)\n",
    "            if copy:\n",
    "                new_entries.append(dataclasses.replace(e, text=cleaned_message))\n",
    "            else:\n",
    "                e.text = cleaned_message\n",
    "\n",
    "        if copy:\n",
    "            new_convos.append(dataclasses.replace(c, entries = new_entries))\n",
    "\n",
    "    if copy:\n",
    "        return new_convos            \n"
   ]
  },
  {
   "cell_type": "code",
   "execution_count": 29,
   "metadata": {},
   "outputs": [],
   "source": [
    "cleaned_convos = clean_convos(convos, copy=True)"
   ]
  },
  {
   "cell_type": "markdown",
   "metadata": {},
   "source": [
    "After Cleaning"
   ]
  },
  {
   "cell_type": "code",
   "execution_count": 30,
   "metadata": {},
   "outputs": [
    {
     "name": "stdout",
     "output_type": "stream",
     "text": [
      "115861> hello, internet. can someone explain why this symbol keeps appearing on my phone and when i try to type the letter i? also\n",
      "AppleSupport> you're in the right place; we'll do all we can to help. to start, let us know what ios version is installed via dm:\n",
      "115861> were going to need you to share the answers angela. i cant stand this!   i will!    i upgraded. it didnt work.\n",
      "AppleSupport> reach out to us via dm, and we can take a look at this with you.\n",
      "115861> didnt work for me either\n"
     ]
    }
   ],
   "source": [
    "print_convo(cleaned_convos[100])"
   ]
  },
  {
   "cell_type": "code",
   "execution_count": 31,
   "metadata": {},
   "outputs": [
    {
     "data": {
      "text/plain": [
       "ConversationsStatistics(num_convos=787346, total_num_messages=2336382, avg_num_messages=2.9674145801210647, avg_msg_len_charachters=112.84678704081782)"
      ]
     },
     "execution_count": 31,
     "metadata": {},
     "output_type": "execute_result"
    }
   ],
   "source": [
    "cleaned_convos_stats = get_convos_statistics(cleaned_convos)\n",
    "cleaned_convos_stats"
   ]
  },
  {
   "cell_type": "markdown",
   "metadata": {},
   "source": [
    "# Tokenizing and Generating Embeddings"
   ]
  },
  {
   "cell_type": "markdown",
   "metadata": {},
   "source": [
    "The dataset is too large, so we will only use a few companies"
   ]
  },
  {
   "cell_type": "code",
   "execution_count": 32,
   "metadata": {},
   "outputs": [],
   "source": [
    "used_brands = set([\"AmazonHelp\", \"AppleSupport\", \"Uber_Support\", \"SpotifyCares\"])\n",
    "filtered_convos = list( filter(lambda convo: convo.brand_name in used_brands, cleaned_convos) )\n",
    "\n",
    "shuffle(filtered_convos)\n",
    "\n",
    "filtered_convos = filtered_convos[: int(0.5 * len(filtered_convos))] # take 50% of the tweets"
   ]
  },
  {
   "cell_type": "code",
   "execution_count": 33,
   "metadata": {},
   "outputs": [
    {
     "data": {
      "text/plain": [
       "115611"
      ]
     },
     "execution_count": 33,
     "metadata": {},
     "output_type": "execute_result"
    }
   ],
   "source": [
    "len(filtered_convos)"
   ]
  },
  {
   "cell_type": "code",
   "execution_count": 34,
   "metadata": {},
   "outputs": [
    {
     "data": {
      "text/plain": [
       "ConversationsStatistics(num_convos=115611, total_num_messages=360835, avg_num_messages=3.121113042876543, avg_msg_len_charachters=110.86719691825904)"
      ]
     },
     "execution_count": 34,
     "metadata": {},
     "output_type": "execute_result"
    }
   ],
   "source": [
    "filtered_convos_stats = get_convos_statistics(filtered_convos)\n",
    "filtered_convos_stats"
   ]
  },
  {
   "cell_type": "code",
   "execution_count": 35,
   "metadata": {},
   "outputs": [],
   "source": [
    "stops = set(stopwords.words('english'))\n",
    "\n",
    "def tokenize_message(text, remove_stops: bool = False):\n",
    "\n",
    "    tokens = word_tokenize(text)\n",
    "\n",
    "    if remove_stops:\n",
    "        tokens = [word for word in tokens if word not in stops]\n",
    "\n",
    "    return tokens"
   ]
  },
  {
   "cell_type": "code",
   "execution_count": 36,
   "metadata": {},
   "outputs": [
    {
     "data": {
      "text/plain": [
       "['is', 'the', 'worst', 'customer', 'service']"
      ]
     },
     "execution_count": 36,
     "metadata": {},
     "output_type": "execute_result"
    }
   ],
   "source": [
    "tokenize_message(cleaned_convos[0].entries[0].text, remove_stops=False)"
   ]
  },
  {
   "cell_type": "code",
   "execution_count": 37,
   "metadata": {},
   "outputs": [],
   "source": [
    "EMBEDDING_SIZE = 100"
   ]
  },
  {
   "cell_type": "code",
   "execution_count": 38,
   "metadata": {},
   "outputs": [],
   "source": [
    "w2v = Word2Vec(\n",
    "    vector_size=EMBEDDING_SIZE,\n",
    "    window=5,\n",
    "    sg=1,\n",
    "    epochs=10,\n",
    "    workers=4\n",
    ")"
   ]
  },
  {
   "cell_type": "markdown",
   "metadata": {},
   "source": [
    "Special Tokens"
   ]
  },
  {
   "cell_type": "code",
   "execution_count": 39,
   "metadata": {},
   "outputs": [],
   "source": [
    "# client input tokens\n",
    "BOC = \"<boc>\"\n",
    "EOC = \"<eoc>\"\n",
    "\n",
    "# agent output tokens\n",
    "BOA = \"<boa>\"\n",
    "EOA = \"<eoa>\"\n",
    "\n",
    "# padding\n",
    "PAD = \"<pad>\"\n"
   ]
  },
  {
   "cell_type": "code",
   "execution_count": 40,
   "metadata": {},
   "outputs": [],
   "source": [
    "def tokenized_sentences_generator(convos: list[Conversation]):\n",
    "\n",
    "    for c in convos:\n",
    "        for e in c.entries:\n",
    "            yield tokenize_message(e.text) "
   ]
  },
  {
   "cell_type": "code",
   "execution_count": 41,
   "metadata": {},
   "outputs": [
    {
     "name": "stdout",
     "output_type": "stream",
     "text": [
      "[['is', 'the', 'worst', 'customer', 'service'], ['i', 'would', 'love', 'the', 'chance', 'to', 'review', 'the', 'account', 'and', 'provide', 'assistance', '.', 'can', 'you', 'please', 'send', 'us', 'a', 'private', 'message', ',', 'so', 'that', 'i', 'can', 'gain', 'further', 'details', 'about', 'your', 'account', '?', 'hello', '!', 'we', 'never', 'like', 'our', 'customers', 'to', 'feel', 'like', 'they', 'are', 'not', 'valued', '.'], ['i', 'did', '.', 'the', 'only', 'way', 'i', 'can', 'get', 'a', 'response', 'is', 'to', 'tweet', 'apparently'], ['please', 'send', 'us', 'a', 'private', 'message', 'so', 'that', 'we', 'can', 'further', 'assist', 'you', '.', 'just', 'click', 'message', 'at', 'the', 'top', 'of', 'your', 'profile', '.'], ['i', 'have', 'sent', 'several', 'private', 'messages', 'and', 'no', 'one', 'is', 'responding', 'as', 'usual'], ['i', 'understand', '.', 'i', 'would', 'like', 'to', 'assist', 'you', '.', 'we', 'would', 'need', 'to', 'get', 'you', 'into', 'a', 'private', 'secured', 'link', 'to', 'further', 'assist', '.'], ['and', 'how', 'do', 'you', 'propose', 'we', 'do', 'that'], ['yall', 'lie', 'about', 'your', 'great', 'connection', '.', '5', 'bars', 'lte', ',', 'still', 'wont', 'load', 'something', '.', 'smh', '.'], ['h', 'there', '!', 'we', \"'d\", 'definitely', 'like', 'to', 'work', 'with', 'you', 'on', 'this', ',', 'how', 'long', 'have', 'you', 'been', 'experiencing', 'this', 'issue', '?', '-aa'], ['since', 'i', 'signed', 'up', 'with', 'you', '....', 'since', 'day', '1'], ['we', 'understand', 'your', 'concerns', 'and', 'we', \"'d\", 'like', 'for', 'you', 'to', 'please', 'send', 'us', 'a', 'direct', 'message', ',', 'so', 'that', 'we', 'can', 'further', 'assist', 'you', '.', '-aa'], ['you', 'gon', 'na', 'magically', 'change', 'your', 'connectivity', 'for', 'me', 'and', 'my', 'whole', 'family', '?'], ['this', 'is', 'saddening', 'to', 'hear', '.', 'please', 'shoot', 'us', 'a', 'dm', ',', 'so', 'that', 'we', 'can', 'look', 'into', 'this', 'for', 'you', '.', '-kc', 'i', 'would', 'really', 'like', 'to', 'work', 'with', 'you', 'to', 'have', 'this', 'resolved', '.', 'kindly', 'send', 'us', 'a', 'dm', '.', 'i', \"'m\", 'here', 'for', 'you', '!', '-resolutionsup', 'sr', 'hi', ',', 'my', 'name', 'is', 'shantel', ',', 'i', \"'m\", 'a', 'resolution', 'supervisor', 'here', 'with', 'sprint', '.', 'your', 'issues', 'was', 'brought', 'to', 'my', 'attention', '.', '1/2', '-resolutionsup', 'sr']]\n"
     ]
    }
   ],
   "source": [
    "print(list(tokenized_sentences_generator(cleaned_convos[0:2])))"
   ]
  },
  {
   "cell_type": "code",
   "execution_count": 42,
   "metadata": {},
   "outputs": [],
   "source": [
    "w2v.build_vocab(tokenized_sentences_generator(filtered_convos))"
   ]
  },
  {
   "cell_type": "code",
   "execution_count": 43,
   "metadata": {},
   "outputs": [
    {
     "data": {
      "text/plain": [
       "(62090882, 86842620)"
      ]
     },
     "execution_count": 43,
     "metadata": {},
     "output_type": "execute_result"
    }
   ],
   "source": [
    "w2v.train(\n",
    "    list(tokenized_sentences_generator(filtered_convos)), \n",
    "    total_examples=w2v.corpus_count, \n",
    "    epochs=10\n",
    ")"
   ]
  },
  {
   "cell_type": "code",
   "execution_count": 44,
   "metadata": {},
   "outputs": [
    {
     "data": {
      "text/plain": [
       "[('application', 0.7931230068206787),\n",
       " ('appstore', 0.66998690366745),\n",
       " ('yelp', 0.669537365436554),\n",
       " ('safari', 0.6518566012382507),\n",
       " ('tab', 0.6378610730171204),\n",
       " ('switcher', 0.6331617832183838),\n",
       " ('podcast', 0.6321865320205688),\n",
       " ('reopening', 0.6314966678619385),\n",
       " ('google', 0.630513608455658),\n",
       " ('re-installed', 0.6302210688591003)]"
      ]
     },
     "execution_count": 44,
     "metadata": {},
     "output_type": "execute_result"
    }
   ],
   "source": [
    "w2v.wv.most_similar(\"app\")"
   ]
  },
  {
   "cell_type": "code",
   "execution_count": 45,
   "metadata": {},
   "outputs": [
    {
     "data": {
      "text/plain": [
       "array([-0.11068089, -0.31094307,  0.18202882,  0.01357247,  0.04913061,\n",
       "       -0.17180687,  0.42468843,  0.05860467, -0.1031799 , -0.12140831,\n",
       "        0.3649895 , -0.02619116, -0.64161396, -0.2572995 ,  0.04888123,\n",
       "       -0.01932447,  0.30139804, -0.20511597, -0.5395796 , -0.73336756,\n",
       "        0.5674775 , -0.119105  , -0.05053532,  0.31559527, -0.04778261,\n",
       "        0.14721437, -0.02586155, -0.03229638, -0.09497796,  0.433001  ,\n",
       "        0.38103205,  0.01172661,  0.32765827, -0.3837844 ,  0.0692039 ,\n",
       "        0.8054997 ,  0.284461  ,  0.34670034, -0.17424574,  0.01288162,\n",
       "        0.16616914, -0.2717708 ,  0.11054961, -0.36503026,  0.1650472 ,\n",
       "       -0.1654424 , -0.22571294, -0.28632703,  0.4830518 , -0.2529409 ,\n",
       "        0.4283536 ,  0.04878951, -0.46517673, -0.18254961,  0.4264278 ,\n",
       "        0.14436823,  0.03037901,  0.3938734 , -0.07817879,  0.01715388,\n",
       "        0.1135712 ,  0.04466423,  0.6882897 ,  0.27804503,  0.34623984,\n",
       "        0.8512855 ,  0.13173118, -0.13198961, -0.328914  ,  0.3639452 ,\n",
       "        0.2603763 ,  0.19746447, -0.04650161, -0.01649926,  0.03324309,\n",
       "        0.0859009 , -0.1295168 , -0.14632793, -0.51847327,  0.17203209,\n",
       "        0.04682129, -0.36514544, -0.47356278, -0.17187302, -0.21546468,\n",
       "        0.06845839, -0.3466646 ,  0.14965639,  0.23143104, -0.43169713,\n",
       "        0.5857358 ,  0.07885931, -0.04753234,  0.27378172,  0.09820187,\n",
       "       -0.11316578, -0.1559245 , -0.1473857 , -0.19536966,  0.12088846],\n",
       "      dtype=float32)"
      ]
     },
     "execution_count": 45,
     "metadata": {},
     "output_type": "execute_result"
    }
   ],
   "source": [
    "w2v.wv[\"apple\"]"
   ]
  },
  {
   "cell_type": "code",
   "execution_count": 46,
   "metadata": {},
   "outputs": [
    {
     "name": "stdout",
     "output_type": "stream",
     "text": [
      "Number of tokens: 21716\n"
     ]
    }
   ],
   "source": [
    "print(f'Number of tokens: {len(w2v.wv)}')"
   ]
  },
  {
   "cell_type": "code",
   "execution_count": 47,
   "metadata": {},
   "outputs": [],
   "source": [
    "BOC_VEC = np.zeros(100)\n",
    "BOC_VEC[-1] = 1\n",
    "\n",
    "EOC_VEC = np.zeros(100)\n",
    "EOC_VEC[-2] = 1\n",
    "\n",
    "BOA_VEC = np.zeros(100)\n",
    "BOA_VEC[-3] = 1\n",
    "\n",
    "EOA_VEC = np.zeros(100)\n",
    "EOA_VEC[-4] = 1\n",
    "\n",
    "PAD_VEC = np.zeros(100)\n",
    "\n",
    "\n",
    "w2v.wv.add_vectors(\n",
    "    [BOC, EOC, BOA, EOA, PAD],\n",
    "    [BOC_VEC, EOC_VEC, BOA_VEC, EOA_VEC, PAD_VEC]\n",
    ")"
   ]
  },
  {
   "cell_type": "code",
   "execution_count": 48,
   "metadata": {},
   "outputs": [],
   "source": [
    "w2v.build_vocab([BOC, EOC, BOA, EOA, PAD], update=True)"
   ]
  },
  {
   "cell_type": "code",
   "execution_count": 49,
   "metadata": {},
   "outputs": [
    {
     "data": {
      "text/plain": [
       "array([0., 0., 0., 0., 0., 0., 0., 0., 0., 0., 0., 0., 0., 0., 0., 0., 0.,\n",
       "       0., 0., 0., 0., 0., 0., 0., 0., 0., 0., 0., 0., 0., 0., 0., 0., 0.,\n",
       "       0., 0., 0., 0., 0., 0., 0., 0., 0., 0., 0., 0., 0., 0., 0., 0., 0.,\n",
       "       0., 0., 0., 0., 0., 0., 0., 0., 0., 0., 0., 0., 0., 0., 0., 0., 0.,\n",
       "       0., 0., 0., 0., 0., 0., 0., 0., 0., 0., 0., 0., 0., 0., 0., 0., 0.,\n",
       "       0., 0., 0., 0., 0., 0., 0., 0., 0., 0., 0., 1., 0., 0., 0.],\n",
       "      dtype=float32)"
      ]
     },
     "execution_count": 49,
     "metadata": {},
     "output_type": "execute_result"
    }
   ],
   "source": [
    "w2v.wv[EOA]"
   ]
  },
  {
   "cell_type": "code",
   "execution_count": 50,
   "metadata": {},
   "outputs": [],
   "source": [
    "w2v.save(\"word_embeddings\")"
   ]
  },
  {
   "cell_type": "markdown",
   "metadata": {},
   "source": [
    "# Dataset Pipeline"
   ]
  },
  {
   "cell_type": "markdown",
   "metadata": {},
   "source": [
    "We try to identify a suitable sequence length"
   ]
  },
  {
   "cell_type": "code",
   "execution_count": 51,
   "metadata": {},
   "outputs": [
    {
     "name": "stdout",
     "output_type": "stream",
     "text": [
      "Number of sentences:  360835\n",
      "Average sentence length in tokens:  24.06712763451439\n"
     ]
    }
   ],
   "source": [
    "all_sentences_tokens = list( tokenized_sentences_generator(filtered_convos) )\n",
    "\n",
    "num_sentences = len(all_sentences_tokens)\n",
    "total_sentence_len = sum(map(lambda x: len(x), all_sentences_tokens))\n",
    "\n",
    "print(\"Number of sentences: \", num_sentences)\n",
    "print(\"Average sentence length in tokens: \", total_sentence_len / num_sentences)"
   ]
  },
  {
   "cell_type": "code",
   "execution_count": 52,
   "metadata": {},
   "outputs": [],
   "source": [
    "SEQ_LENGTH = 50"
   ]
  },
  {
   "cell_type": "code",
   "execution_count": 53,
   "metadata": {},
   "outputs": [
    {
     "data": {
      "text/plain": [
       "50"
      ]
     },
     "execution_count": 53,
     "metadata": {},
     "output_type": "execute_result"
    }
   ],
   "source": [
    "# Takes an alternating list of questions and answers to preapare it for the model as input,\n",
    "# This assumes the last string is a question\n",
    "# returns a list of tokens containing word and special tokens\n",
    "def prepare_context_tokens(context: list[str], clean=False):\n",
    "    \n",
    "    is_q = True\n",
    "    rem_seq_length = SEQ_LENGTH\n",
    "\n",
    "    tokens = []\n",
    "\n",
    "    for i in reversed(context):\n",
    "        \n",
    "        if rem_seq_length < 3: break\n",
    "\n",
    "        if is_q:\n",
    "            tokens.append(EOC)\n",
    "        else:\n",
    "            tokens.append(EOA)\n",
    "\n",
    "        rem_seq_length -= 1\n",
    "\n",
    "        if clean: i = clean_message(i)\n",
    "        i = tokenize_message(i)\n",
    "        max_new_tokens = min(rem_seq_length - 1, len(i))\n",
    "        tokens += i[:-max_new_tokens:-1]\n",
    "\n",
    "        rem_seq_length -= max_new_tokens\n",
    "\n",
    "        if is_q:\n",
    "            tokens.append(BOC)\n",
    "        else:\n",
    "            tokens.append(BOA)\n",
    "        rem_seq_length -= 1\n",
    "\n",
    "        is_q = not is_q\n",
    "\n",
    "    num_padding = SEQ_LENGTH - len(tokens)\n",
    "    tokens = list(reversed(tokens)) + [PAD] * num_padding\n",
    "    \n",
    "    return tokens\n",
    "\n",
    "ex1 = list(map(lambda x: x.text, filtered_convos[200].entries[0:5]))\n",
    "len(prepare_context_tokens(ex1))"
   ]
  },
  {
   "cell_type": "code",
   "execution_count": 54,
   "metadata": {},
   "outputs": [],
   "source": [
    "VOCAB_SIZE = len(w2v.wv)\n",
    "\n",
    "def prepare_answer_vector(ans: str):\n",
    "    \"\"\"\n",
    "    Takes an answer (string) as a parameter\n",
    "    and returns a tensor of shape (SEQ_LENGTH, EMBEDDING_SIZE)\n",
    "    \n",
    "    this is to be used in the decoder part\n",
    "\n",
    "    this also adds the <BOA> token\n",
    "    \"\"\"\n",
    "    tokens = [BOA] + tokenize_message(ans)\n",
    "\n",
    "    rem_len = SEQ_LENGTH - len(tokens)\n",
    "    if rem_len > 0:\n",
    "        tokens = tokens + [PAD] * rem_len\n",
    "    elif rem_len < 0:\n",
    "        tokens = tokens[:SEQ_LENGTH]\n",
    "\n",
    "    sequences = []\n",
    "    for t in tokens:\n",
    "        if t not in w2v.wv: t = PAD\n",
    "        sequences.append(w2v.wv[t])\n",
    "        \n",
    "\n",
    "    return torch.Tensor(np.array(sequences))"
   ]
  },
  {
   "cell_type": "code",
   "execution_count": 55,
   "metadata": {},
   "outputs": [
    {
     "data": {
      "text/plain": [
       "(tensor([ 0.1164, -0.0453, -0.1673,  0.0953,  0.0262, -0.2497,  0.2528,  0.2945,\n",
       "         -0.3477, -0.1630, -0.2664, -0.2703, -0.1411,  0.2000, -0.0524, -0.2414,\n",
       "          0.8918, -0.1272,  0.6767, -0.8528, -0.5542,  0.2872,  0.6297,  0.2211,\n",
       "         -0.3138, -0.1921, -0.6014,  0.0069,  0.1067, -0.2886,  0.7568,  0.1041,\n",
       "          0.1572, -0.3095, -0.4743,  0.2358,  0.4765, -0.2584,  0.1821, -0.4653,\n",
       "          0.2727,  0.0490,  0.2243, -0.3184, -0.3180,  0.0935,  0.3439,  0.0723,\n",
       "          0.4054, -0.1458, -0.0325, -0.1087, -0.5407,  0.3363, -0.0721,  0.0297,\n",
       "         -0.2577, -0.4629, -0.2107, -0.4120, -0.1746,  0.2716,  0.0655,  0.1739,\n",
       "         -0.0964,  0.3114,  0.2085,  0.2832, -0.1810, -0.3909, -0.2627,  0.0070,\n",
       "         -0.1071, -0.2945,  0.7515, -0.0742,  0.0035, -0.0756, -0.0241,  0.0140,\n",
       "          0.4596, -0.0969, -0.4196,  1.1208, -0.1663,  0.2689,  0.2885,  0.2776,\n",
       "          0.0222, -0.4662,  0.0380,  0.2391, -0.1892, -0.0232,  0.4248, -0.0625,\n",
       "         -0.2105,  0.0547, -0.2342,  0.0570]),\n",
       " torch.Size([50, 100]))"
      ]
     },
     "execution_count": 55,
     "metadata": {},
     "output_type": "execute_result"
    }
   ],
   "source": [
    "sample_ans = prepare_answer_vector(\"hello i am here to help\")\n",
    "sample_ans[4], sample_ans.shape"
   ]
  },
  {
   "cell_type": "code",
   "execution_count": 56,
   "metadata": {},
   "outputs": [],
   "source": [
    "def get_answer_tokens(ans: str):\n",
    "\n",
    "    tokens = tokenize_message(ans) + [EOA]\n",
    "\n",
    "    rem_len = SEQ_LENGTH - len(tokens)\n",
    "    if rem_len > 0:\n",
    "        tokens = tokens + [EOA] * rem_len\n",
    "    elif rem_len < 0:\n",
    "        tokens = tokens[:SEQ_LENGTH]\n",
    "    \n",
    "    token_indices = []\n",
    "    for i in tokens:\n",
    "        if i not in w2v.wv: i = EOA\n",
    "\n",
    "        token_indices.append(w2v.wv.get_index(i))\n",
    "    \n",
    "    return torch.Tensor(token_indices).type(torch.int32)"
   ]
  },
  {
   "cell_type": "code",
   "execution_count": 57,
   "metadata": {},
   "outputs": [
    {
     "data": {
      "text/plain": [
       "tensor([  327,     5,   144,    25,     1,    24, 21719, 21719, 21719, 21719,\n",
       "        21719, 21719, 21719, 21719, 21719, 21719, 21719, 21719, 21719, 21719,\n",
       "        21719, 21719, 21719, 21719, 21719, 21719, 21719, 21719, 21719, 21719,\n",
       "        21719, 21719, 21719, 21719, 21719, 21719, 21719, 21719, 21719, 21719,\n",
       "        21719, 21719, 21719, 21719, 21719, 21719, 21719, 21719, 21719, 21719],\n",
       "       dtype=torch.int32)"
      ]
     },
     "execution_count": 57,
     "metadata": {},
     "output_type": "execute_result"
    }
   ],
   "source": [
    "ex_ans_tokens = get_answer_tokens(\"hello i am here to help\")\n",
    "ex_ans_tokens"
   ]
  },
  {
   "cell_type": "code",
   "execution_count": 58,
   "metadata": {},
   "outputs": [],
   "source": [
    "def get_embeddings_for_tokens(tokens: list[str]):\n",
    "\n",
    "    out = list()\n",
    "    for i in tokens:\n",
    "        if i in w2v.wv:\n",
    "            out.append(w2v.wv[i])\n",
    "        else:\n",
    "            out.append(w2v.wv[PAD])\n",
    "    \n",
    "    return torch.Tensor(np.array(out))"
   ]
  },
  {
   "cell_type": "code",
   "execution_count": 59,
   "metadata": {},
   "outputs": [
    {
     "data": {
      "text/plain": [
       "tensor([[ 0.0000,  0.0000,  0.0000,  ...,  1.0000,  0.0000,  0.0000],\n",
       "        [-0.2214,  0.1025, -0.0749,  ..., -0.3781, -0.0293,  0.3091],\n",
       "        [ 0.2325,  0.1746, -0.0170,  ..., -0.3943,  0.2373,  0.0866],\n",
       "        ...,\n",
       "        [ 0.0000,  0.0000,  0.0000,  ...,  0.0000,  1.0000,  0.0000],\n",
       "        [ 0.0000,  0.0000,  0.0000,  ...,  0.0000,  0.0000,  0.0000],\n",
       "        [ 0.0000,  0.0000,  0.0000,  ...,  0.0000,  0.0000,  0.0000]])"
      ]
     },
     "execution_count": 59,
     "metadata": {},
     "output_type": "execute_result"
    }
   ],
   "source": [
    "get_embeddings_for_tokens(prepare_context_tokens(ex1))"
   ]
  },
  {
   "cell_type": "code",
   "execution_count": 60,
   "metadata": {},
   "outputs": [],
   "source": [
    "from torch.utils.data import Dataset\n",
    "\n",
    "\n",
    "class QADataset(Dataset):\n",
    "\n",
    "    def __init__(self, convos: list[Conversation]):\n",
    "        \n",
    "        self.dataset = []\n",
    "\n",
    "        for c in convos:\n",
    "            contexts, answers = QADataset.generate_convo_qa_pairs(c)\n",
    "            \n",
    "            for con, ans in zip(contexts, answers):\n",
    "                self.dataset.append((con, ans))\n",
    "\n",
    "    @staticmethod\n",
    "    def generate_convo_qa_pairs(convo: Conversation):\n",
    "        \"\"\"\n",
    "        Returns a list of all questions, along with a list of all answers to each question\n",
    "        \"\"\"\n",
    "        entries = convo.entries\n",
    "        \n",
    "        contexts = []\n",
    "        answers = []\n",
    "        for i in range(len(entries) - 1):\n",
    "            entry = entries[i]\n",
    "            if entry.is_customer: # this is a question\n",
    "                contexts.append(entries[i].text)\n",
    "                answers.append(entries[i+1].text)\n",
    "\n",
    "        return contexts, answers\n",
    "\n",
    "    def __len__(self):\n",
    "        return len(self.dataset)\n",
    "\n",
    "    def __getitem__(self, index: int):\n",
    "        \n",
    "        con, ans = self.dataset[index]\n",
    "        prepped_con = get_embeddings_for_tokens(prepare_context_tokens([con]))\n",
    "        prepped_ans = prepare_answer_vector(ans)\n",
    "\n",
    "        # these are the indices of the tokens that the model should output starting from <BOA> token\n",
    "        # these will be used to calculate the loss\n",
    "        target_tokens = get_answer_tokens(ans) \n",
    "        \n",
    "        return prepped_con, prepped_ans, target_tokens.type(torch.int32)"
   ]
  },
  {
   "cell_type": "code",
   "execution_count": 61,
   "metadata": {},
   "outputs": [
    {
     "data": {
      "text/plain": [
       "(['on peut pas payer en espce sur  ?  urgent'],\n",
       " [\"hi there! we're here to help. can you please provide more details of what the specific issue is? from there we'll be able to assist further.\"])"
      ]
     },
     "execution_count": 61,
     "metadata": {},
     "output_type": "execute_result"
    }
   ],
   "source": [
    "QADataset.generate_convo_qa_pairs(filtered_convos[1000])"
   ]
  },
  {
   "cell_type": "code",
   "execution_count": 62,
   "metadata": {},
   "outputs": [
    {
     "data": {
      "text/plain": [
       "(92488, 23123)"
      ]
     },
     "execution_count": 62,
     "metadata": {},
     "output_type": "execute_result"
    }
   ],
   "source": [
    "from random import shuffle\n",
    "\n",
    "TRAIN_SPLIT_RATIO = 0.8\n",
    "\n",
    "num_train_convos = int(TRAIN_SPLIT_RATIO * len(filtered_convos))\n",
    "\n",
    "train_convos = filtered_convos[:num_train_convos]\n",
    "test_convos = filtered_convos[num_train_convos:]\n",
    "\n",
    "len(train_convos), len(test_convos)"
   ]
  },
  {
   "cell_type": "code",
   "execution_count": 63,
   "metadata": {},
   "outputs": [],
   "source": [
    "train_dataset = QADataset(train_convos)\n",
    "test_dataset = QADataset(test_convos)"
   ]
  },
  {
   "cell_type": "code",
   "execution_count": 64,
   "metadata": {},
   "outputs": [
    {
     "data": {
      "text/plain": [
       "(137504, 34536)"
      ]
     },
     "execution_count": 64,
     "metadata": {},
     "output_type": "execute_result"
    }
   ],
   "source": [
    "len(train_dataset), len(test_dataset)"
   ]
  },
  {
   "cell_type": "code",
   "execution_count": 65,
   "metadata": {},
   "outputs": [
    {
     "name": "stdout",
     "output_type": "stream",
     "text": [
      "Shape of questions:  torch.Size([50, 100])\n",
      "Shape of answers:  torch.Size([50, 100])\n",
      "Shape of answer indices torch.Size([50])\n"
     ]
    }
   ],
   "source": [
    "print(\"Shape of questions: \", train_dataset[0][0].shape)\n",
    "print(\"Shape of answers: \", train_dataset[0][1].shape)\n",
    "print(\"Shape of answer indices\", train_dataset[0][2].shape)"
   ]
  },
  {
   "cell_type": "code",
   "execution_count": 66,
   "metadata": {},
   "outputs": [],
   "source": [
    "from torch.utils.data import DataLoader\n",
    "\n",
    "BATCH_SIZE = 128\n",
    "\n",
    "train_dataloader = DataLoader(train_dataset, batch_size=BATCH_SIZE, shuffle=True)\n",
    "test_dataloader = DataLoader(test_dataset, batch_size=BATCH_SIZE)"
   ]
  },
  {
   "cell_type": "code",
   "execution_count": 67,
   "metadata": {},
   "outputs": [
    {
     "data": {
      "text/plain": [
       "1075"
      ]
     },
     "execution_count": 67,
     "metadata": {},
     "output_type": "execute_result"
    }
   ],
   "source": [
    "len(train_dataloader)"
   ]
  },
  {
   "cell_type": "markdown",
   "metadata": {},
   "source": [
    "# Model Creation"
   ]
  },
  {
   "cell_type": "code",
   "execution_count": 68,
   "metadata": {},
   "outputs": [
    {
     "data": {
      "text/plain": [
       "'cuda'"
      ]
     },
     "execution_count": 68,
     "metadata": {},
     "output_type": "execute_result"
    }
   ],
   "source": [
    "device = \"cuda\" if torch.cuda.is_available() else \"cpu\"\n",
    "device"
   ]
  },
  {
   "cell_type": "markdown",
   "metadata": {},
   "source": [
    "### Encoder"
   ]
  },
  {
   "cell_type": "code",
   "execution_count": 69,
   "metadata": {},
   "outputs": [],
   "source": [
    "CONTEXT_VECTOR_SIZE = 30\n",
    "\n",
    "class Encoder(nn.Module):\n",
    "\n",
    "    def __init__(self, embeddings_size, context_vector_size = 50):\n",
    "        super().__init__()\n",
    "        self.lstm = nn.LSTM(input_size=embeddings_size, hidden_size=context_vector_size, batch_first=True, num_layers=2)\n",
    "\n",
    "\n",
    "    def forward(self, input): \n",
    "        \"\"\"\n",
    "        Input shape: (BATCH, SEQ_LEN, EMBEDDING_SIZE)\n",
    "        \"\"\"\n",
    "\n",
    "        _, (hidden, _) = self.lstm(input)\n",
    "        hidden_last_layer = hidden[1]\n",
    "        \n",
    "        return hidden_last_layer # shape (BATCH_SIZE, CONTEXT_VECTOR_SIZE)"
   ]
  },
  {
   "cell_type": "code",
   "execution_count": 70,
   "metadata": {},
   "outputs": [
    {
     "data": {
      "text/plain": [
       "tensor([[ 0.0234, -0.0401,  0.0309, -0.0555,  0.0355, -0.0321,  0.0651,  0.0039,\n",
       "         -0.0661,  0.1755, -0.0875,  0.0657, -0.0577,  0.1061,  0.0607,  0.0858,\n",
       "         -0.0810,  0.0066, -0.0131, -0.0007, -0.0020,  0.0178, -0.0536, -0.0788,\n",
       "          0.0531, -0.0457, -0.0589,  0.1781,  0.0761,  0.0026]],\n",
       "       grad_fn=<SelectBackward0>)"
      ]
     },
     "execution_count": 70,
     "metadata": {},
     "output_type": "execute_result"
    }
   ],
   "source": [
    "enc = Encoder(100, CONTEXT_VECTOR_SIZE)\n",
    "enc(train_dataset[1][0].unsqueeze(0))"
   ]
  },
  {
   "cell_type": "code",
   "execution_count": 71,
   "metadata": {},
   "outputs": [
    {
     "data": {
      "text/plain": [
       "OrderedDict([('lstm.weight_ih_l0',\n",
       "              tensor([[-0.0478, -0.1473,  0.0677,  ..., -0.0707,  0.1627,  0.0344],\n",
       "                      [-0.0450, -0.0449, -0.1029,  ..., -0.0246, -0.0740,  0.1004],\n",
       "                      [ 0.0243,  0.0034, -0.0843,  ..., -0.1550, -0.0440, -0.0467],\n",
       "                      ...,\n",
       "                      [-0.1732, -0.1496,  0.0810,  ..., -0.1574,  0.1736, -0.1415],\n",
       "                      [-0.1556,  0.0360,  0.1704,  ...,  0.0904, -0.1355, -0.0845],\n",
       "                      [-0.1662, -0.1678,  0.1143,  ...,  0.0087, -0.0964,  0.0067]])),\n",
       "             ('lstm.weight_hh_l0',\n",
       "              tensor([[ 0.1142,  0.0738, -0.1635,  ...,  0.0420,  0.0018, -0.1482],\n",
       "                      [-0.0127, -0.0019,  0.1254,  ...,  0.0636, -0.0137,  0.0624],\n",
       "                      [-0.1463,  0.0082,  0.0132,  ..., -0.1208, -0.0522,  0.0966],\n",
       "                      ...,\n",
       "                      [ 0.0971,  0.1481, -0.1548,  ...,  0.0938, -0.1154,  0.1355],\n",
       "                      [-0.0552,  0.1616, -0.1210,  ...,  0.1066,  0.0208, -0.0222],\n",
       "                      [ 0.1720, -0.0481, -0.0041,  ..., -0.1121,  0.1302, -0.1096]])),\n",
       "             ('lstm.bias_ih_l0',\n",
       "              tensor([ 0.1754,  0.1166, -0.0560,  0.0444,  0.1153,  0.1750,  0.0522,  0.1786,\n",
       "                       0.0704,  0.1141, -0.1195, -0.1001,  0.1682, -0.0039,  0.1237,  0.1739,\n",
       "                      -0.0887, -0.0548, -0.1712, -0.0881, -0.0307, -0.1052, -0.0332,  0.0851,\n",
       "                       0.1191,  0.0500, -0.0182,  0.0136,  0.0687, -0.0905, -0.1286,  0.1053,\n",
       "                       0.0930,  0.0459, -0.0134,  0.0859,  0.1675,  0.0653, -0.1315, -0.1491,\n",
       "                      -0.1082, -0.0853,  0.0743,  0.0133,  0.0181, -0.1418, -0.1531, -0.0434,\n",
       "                      -0.0758, -0.0689,  0.0755,  0.1185,  0.0235, -0.1374, -0.1809, -0.1763,\n",
       "                      -0.1401,  0.0637,  0.0144, -0.1332, -0.1283,  0.0829,  0.0984,  0.1704,\n",
       "                      -0.1012, -0.0024, -0.0483,  0.0305,  0.1342, -0.0816, -0.0717,  0.0520,\n",
       "                      -0.0010, -0.0237,  0.1420, -0.0904,  0.0540, -0.1364,  0.1322,  0.1793,\n",
       "                      -0.0937, -0.1055, -0.0377,  0.1122, -0.0647,  0.0366,  0.0960, -0.1631,\n",
       "                       0.0220,  0.1090,  0.0004,  0.1024,  0.1357,  0.1166, -0.0804, -0.1278,\n",
       "                      -0.1142,  0.0082, -0.1818,  0.1228, -0.0861,  0.1064,  0.0643,  0.1626,\n",
       "                       0.0859, -0.1621, -0.0501, -0.1600, -0.0246, -0.0426,  0.1349,  0.0803,\n",
       "                      -0.1249, -0.1821,  0.1400, -0.0771, -0.1155,  0.0666,  0.1356, -0.1129])),\n",
       "             ('lstm.bias_hh_l0',\n",
       "              tensor([-0.1425,  0.1010,  0.0473, -0.1262, -0.0066, -0.1766, -0.1742,  0.1048,\n",
       "                       0.1802,  0.0328,  0.1371, -0.1698,  0.1810,  0.1075,  0.0750,  0.1253,\n",
       "                       0.0012, -0.1436, -0.1619,  0.0513,  0.1316,  0.0334,  0.1335, -0.1755,\n",
       "                       0.0134,  0.0617, -0.1299, -0.1055, -0.0439, -0.0705, -0.0143,  0.0649,\n",
       "                      -0.0178,  0.1213,  0.0701,  0.1223, -0.0568, -0.1581,  0.1278,  0.1036,\n",
       "                      -0.0470,  0.0530, -0.1620,  0.1036, -0.1645,  0.0347, -0.1653, -0.0709,\n",
       "                      -0.0434,  0.1736, -0.1303,  0.1640,  0.0546,  0.1353, -0.0324,  0.0746,\n",
       "                       0.1495, -0.0715,  0.1211, -0.0196,  0.1223,  0.1779, -0.1451, -0.1269,\n",
       "                      -0.0369,  0.1079,  0.1109,  0.1635,  0.0591, -0.1817, -0.1000, -0.0509,\n",
       "                      -0.0197,  0.0148,  0.0437, -0.1112, -0.1508,  0.0637, -0.0465,  0.1039,\n",
       "                      -0.0125, -0.1825,  0.1772, -0.1636, -0.0844, -0.1567, -0.0827,  0.1176,\n",
       "                      -0.1419, -0.1672,  0.1285,  0.0642,  0.1423, -0.1258, -0.0718,  0.0476,\n",
       "                       0.1184, -0.0124, -0.0196, -0.0453,  0.1718, -0.1317, -0.0757,  0.1007,\n",
       "                       0.1497,  0.0975, -0.0995,  0.1499,  0.0114,  0.0598,  0.0875,  0.0112,\n",
       "                       0.1280, -0.1116,  0.0336,  0.0026,  0.1302,  0.0835,  0.1389,  0.0489])),\n",
       "             ('lstm.weight_ih_l1',\n",
       "              tensor([[-1.6188e-01,  9.4772e-03,  5.1389e-02,  ...,  1.1669e-02,\n",
       "                       -2.2299e-02,  5.7414e-05],\n",
       "                      [-5.1154e-02, -1.0171e-01,  6.1336e-02,  ..., -1.3272e-01,\n",
       "                       -1.1557e-01, -1.6590e-01],\n",
       "                      [ 5.5114e-02,  2.7597e-02, -9.6054e-02,  ...,  1.5251e-01,\n",
       "                       -1.6398e-01, -9.8324e-02],\n",
       "                      ...,\n",
       "                      [ 9.5184e-02, -1.4473e-01, -1.8509e-02,  ..., -7.5822e-02,\n",
       "                        3.8715e-03, -7.9468e-02],\n",
       "                      [ 2.9350e-02, -1.2392e-01,  4.5832e-02,  ..., -1.2495e-01,\n",
       "                       -5.5283e-02,  1.0049e-01],\n",
       "                      [-2.2073e-02, -2.1050e-02,  1.3099e-01,  ..., -9.5143e-02,\n",
       "                       -1.5956e-01, -1.6958e-01]])),\n",
       "             ('lstm.weight_hh_l1',\n",
       "              tensor([[ 0.0959, -0.1416,  0.0588,  ...,  0.0582,  0.0346, -0.0148],\n",
       "                      [ 0.1765,  0.0884,  0.1120,  ...,  0.0157, -0.1103, -0.0352],\n",
       "                      [-0.1025,  0.1333, -0.0164,  ..., -0.1057, -0.0918, -0.1724],\n",
       "                      ...,\n",
       "                      [-0.0131, -0.0899,  0.0201,  ...,  0.0176,  0.1489,  0.1777],\n",
       "                      [ 0.0352,  0.0307, -0.0715,  ...,  0.0241,  0.1053, -0.1618],\n",
       "                      [ 0.1680,  0.1786,  0.1233,  ..., -0.0235,  0.1377, -0.0397]])),\n",
       "             ('lstm.bias_ih_l1',\n",
       "              tensor([-0.0887, -0.0194, -0.0950,  0.0122, -0.1558, -0.1434, -0.0929,  0.1701,\n",
       "                       0.1404, -0.1273, -0.1055,  0.0396, -0.1520,  0.0380, -0.1036,  0.0060,\n",
       "                       0.0933, -0.0565,  0.0793, -0.1248,  0.1250,  0.1785, -0.1040, -0.0880,\n",
       "                      -0.1639, -0.1708,  0.0175, -0.0056,  0.1619, -0.0656,  0.0430, -0.1297,\n",
       "                      -0.0961,  0.1317,  0.1321,  0.1451, -0.0866, -0.0318, -0.1238,  0.0160,\n",
       "                      -0.0138,  0.1520,  0.1281, -0.1097,  0.1762, -0.1078,  0.1457,  0.1027,\n",
       "                      -0.0670, -0.0335,  0.0573, -0.1213,  0.0521,  0.0117, -0.1136,  0.0465,\n",
       "                      -0.0286,  0.1062, -0.1625,  0.0432,  0.1731, -0.0608,  0.1358, -0.1560,\n",
       "                       0.0291, -0.0836,  0.1729, -0.1625,  0.0231,  0.1739, -0.1584, -0.0365,\n",
       "                      -0.1556,  0.0047,  0.0113,  0.1061, -0.1080, -0.1424, -0.0329,  0.0841,\n",
       "                       0.0248, -0.1687, -0.0176, -0.0966, -0.0188, -0.1296, -0.0843,  0.1759,\n",
       "                       0.0571, -0.0965,  0.0838,  0.0140, -0.1712,  0.0459,  0.0110,  0.1420,\n",
       "                      -0.0572, -0.0899,  0.1618,  0.0281, -0.0043, -0.1288, -0.0283,  0.0236,\n",
       "                       0.0801,  0.0272,  0.0002,  0.1514,  0.0753,  0.1033,  0.1797,  0.0544,\n",
       "                       0.0924, -0.0079,  0.0341, -0.0328, -0.1750, -0.0076,  0.1043, -0.0276])),\n",
       "             ('lstm.bias_hh_l1',\n",
       "              tensor([ 0.1205, -0.0139,  0.1288, -0.0583, -0.0586,  0.1379,  0.1338,  0.0059,\n",
       "                       0.0646,  0.0118, -0.0818,  0.1754,  0.1120, -0.0308, -0.0260, -0.0705,\n",
       "                       0.0374,  0.1649, -0.1797,  0.1625, -0.0137, -0.1648, -0.1057,  0.1104,\n",
       "                       0.0171, -0.1653, -0.0877, -0.0373,  0.1267, -0.0807, -0.1255,  0.1239,\n",
       "                      -0.0731, -0.0206,  0.0469,  0.0211,  0.1448,  0.1696,  0.0372,  0.0862,\n",
       "                       0.1794, -0.0575, -0.1183,  0.1502,  0.0686, -0.0956,  0.1795, -0.1318,\n",
       "                      -0.1804, -0.0523,  0.1807, -0.1622,  0.1690, -0.0782,  0.0692, -0.1516,\n",
       "                      -0.0045,  0.0527, -0.0278, -0.0181, -0.0722,  0.0118, -0.0706,  0.0477,\n",
       "                       0.0663, -0.0260,  0.0398,  0.1375, -0.1463,  0.1529, -0.0529,  0.0863,\n",
       "                       0.1756,  0.1710,  0.0537,  0.1053, -0.0247,  0.1403, -0.0156, -0.0294,\n",
       "                       0.0666,  0.1742, -0.0759,  0.0084,  0.0831,  0.0810, -0.1654,  0.1743,\n",
       "                       0.0953,  0.0954,  0.0194,  0.1603, -0.1114,  0.1466,  0.1324,  0.0616,\n",
       "                      -0.1479, -0.0679,  0.0615,  0.0147, -0.0467,  0.1048,  0.0301,  0.0210,\n",
       "                       0.1663, -0.1262, -0.0649,  0.0987, -0.0165, -0.0810, -0.0051, -0.1738,\n",
       "                      -0.0958,  0.1056, -0.1413,  0.1382, -0.1444,  0.0122,  0.0322,  0.1161]))])"
      ]
     },
     "execution_count": 71,
     "metadata": {},
     "output_type": "execute_result"
    }
   ],
   "source": [
    "enc.state_dict()"
   ]
  },
  {
   "cell_type": "markdown",
   "metadata": {},
   "source": [
    "### Decoder"
   ]
  },
  {
   "cell_type": "code",
   "execution_count": 72,
   "metadata": {},
   "outputs": [],
   "source": [
    "DECODER_LAYER_SIZE = 2\n",
    "\n",
    "class Decoder(nn.Module):\n",
    "\n",
    "    def __init__(self, embedding_size, input_context_size, vocab_size):\n",
    "        super().__init__()\n",
    "        self.context_size = input_context_size\n",
    "        self.lstm = nn.LSTM(embedding_size, input_context_size, num_layers=DECODER_LAYER_SIZE, batch_first=True)\n",
    "        self.classifier = nn.Linear(input_context_size, vocab_size)\n",
    "\n",
    "    \n",
    "    def forward(self, h_0, c_0, input):\n",
    "        \"\"\"\n",
    "        h_0 shape: (NUM_LAYERS, BATCH, INPUT_CONTEXT_SIZE)\n",
    "        c_0 shape: (NUM_LAYERS, BATCH, INPUT_CONTEXT_SIZE)\n",
    "        input vector shape: (BATCH, SEQ_LEN, EMBEDDING_SIZE)\n",
    "        \"\"\"\n",
    "        if h_0 == None:\n",
    "            h_0 = torch.zeros(DECODER_LAYER_SIZE, input.shape[0],self.context_size).to(device)\n",
    "        if c_0 == None:\n",
    "            c_0 = torch.zeros(DECODER_LAYER_SIZE, input.shape[0],self.context_size).to(device)\n",
    "            \n",
    "        lstm_out, (h_t, c_t) = self.lstm_pass(h_0, c_0, input)\n",
    "        linear_out = self.classifier(lstm_out)\n",
    "\n",
    "        return lstm_out, h_t, c_t, linear_out\n",
    "\n",
    "    def lstm_pass(self, h_0, c_0, input):\n",
    "        \n",
    "        # second_layer_hidden = torch.zeros_like(initial_context, dtype=torch.float32, device=device)\n",
    "\n",
    "        # c_0 = torch.zeros(DECODER_LAYER_SIZE, initial_context.shape[0], self.context_size, dtype=torch.float32, device=device)\n",
    "        # h_0 = torch.stack((initial_context, second_layer_hidden), dim=0)\n",
    "\n",
    "        return self.lstm(input, (h_0, c_0))\n",
    "\n"
   ]
  },
  {
   "cell_type": "code",
   "execution_count": 73,
   "metadata": {},
   "outputs": [
    {
     "data": {
      "text/plain": [
       "torch.Size([2, 1, 30])"
      ]
     },
     "execution_count": 73,
     "metadata": {},
     "output_type": "execute_result"
    }
   ],
   "source": [
    "dec = Decoder(EMBEDDING_SIZE, CONTEXT_VECTOR_SIZE, VOCAB_SIZE).to(device)\n",
    "\n",
    "h_0 = enc(train_dataset[1][0]).to(device)\n",
    "inp = train_dataset[1][1].to(device)\n",
    "\n",
    "dec(None, None, inp.unsqueeze(0))[1].shape # (BATCH_SIZE, SEQ_LENGTH, VOCAB_SIZE)"
   ]
  },
  {
   "cell_type": "markdown",
   "metadata": {},
   "source": [
    "### End-to-End Model"
   ]
  },
  {
   "cell_type": "code",
   "execution_count": 74,
   "metadata": {},
   "outputs": [],
   "source": [
    "class BaseEndtoEndModel(nn.Module):\n",
    "\n",
    "    def __init__(self, embedding_size, context_size, vocab_size):\n",
    "        super().__init__()\n",
    "\n",
    "        self.encoder = Encoder(embedding_size, context_size)\n",
    "        self.decoder = Decoder(embedding_size, context_size, vocab_size)\n",
    "\n",
    "    def forward(self, question: torch.Tensor, answer: torch.Tensor):\n",
    "        \"\"\"\n",
    "        questions shape: (BATCH_SIZE, SEQ_LENGTH, EMBEDDING_SIZE)\n",
    "        answer shape: (BATCH_SIZE, SEQ_LENGTH, EMBEDDING_SIZE)\n",
    "        \"\"\"\n",
    "        context_vector = self.encoder(question)\n",
    "\n",
    "        h_0 = torch.stack([context_vector, torch.zeros_like(context_vector)])\n",
    "        c_0 = torch.zeros_like(h_0)\n",
    "\n",
    "        decoder_out = self.decoder(h_0, c_0, answer)\n",
    "\n",
    "        return decoder_out"
   ]
  },
  {
   "cell_type": "code",
   "execution_count": 75,
   "metadata": {},
   "outputs": [
    {
     "name": "stdout",
     "output_type": "stream",
     "text": [
      "Question shape:  torch.Size([50, 100])\n",
      "Answer shape:  torch.Size([50, 100])\n"
     ]
    },
    {
     "data": {
      "text/plain": [
       "torch.Size([1, 50, 21723])"
      ]
     },
     "execution_count": 75,
     "metadata": {},
     "output_type": "execute_result"
    }
   ],
   "source": [
    "model = BaseEndtoEndModel(EMBEDDING_SIZE, CONTEXT_VECTOR_SIZE, VOCAB_SIZE).to(device)\n",
    "\n",
    "q, a, _ = train_dataset[1]\n",
    "\n",
    "print(\"Question shape: \", q.shape)\n",
    "print(\"Answer shape: \", a.shape)\n",
    "\n",
    "model.forward(q.unsqueeze(0).to(device), a.unsqueeze(0).to(device))[3].shape"
   ]
  },
  {
   "cell_type": "markdown",
   "metadata": {},
   "source": [
    "# Training"
   ]
  },
  {
   "cell_type": "code",
   "execution_count": 76,
   "metadata": {},
   "outputs": [],
   "source": [
    "@dataclass\n",
    "class TrainingResult:\n",
    "\n",
    "    num_epochs: int\n",
    "    \n",
    "    train_loss: list[float]\n",
    "    test_loss: list[float]\n",
    "    \n",
    "    train_perplexity: list[float]\n",
    "    test_perplexity: list[float]"
   ]
  },
  {
   "cell_type": "code",
   "execution_count": 77,
   "metadata": {},
   "outputs": [],
   "source": [
    "class TrainableEndtoEndModel(BaseEndtoEndModel):\n",
    "\n",
    "    def __init__(self, embedding_size, context_size, vocab_size):\n",
    "        super().__init__(embedding_size, context_size, vocab_size)\n",
    "\n",
    "    def train_model(\n",
    "        self, \n",
    "        num_epochs: int, \n",
    "        train_dataloader: DataLoader, \n",
    "        test_dataloader: DataLoader, \n",
    "        verbose: bool=True\n",
    "    ) -> TrainingResult:\n",
    "        \n",
    "        optimizer = Adam(params=self.parameters())\n",
    "        loss_fn = nn.CrossEntropyLoss()\n",
    "\n",
    "        train_losses = []\n",
    "        test_losses = []\n",
    "\n",
    "        train_perplexities = []\n",
    "        test_perplexities = []\n",
    "    \n",
    "        for e in range(num_epochs):\n",
    "            \n",
    "            total_train_loss = 0\n",
    "            total_test_loss = 0\n",
    "\n",
    "            train_perplexity = 0\n",
    "            test_perplexity = 0\n",
    "\n",
    "            self.train()\n",
    "\n",
    "            for (batch_index, batch) in enumerate(train_dataloader):\n",
    "                \n",
    "                (Q_train, A_train, Y_train) = batch # Q, A = (BATCH_SIZE, SEQ_LENGTH, EMBEDDING_SIZE) , Y = (BATCH_SIZE, SEQ_LENGTH)\n",
    "\n",
    "                if verbose:\n",
    "                    print(f'\\rEpoch {e + 1}/{num_epochs}: Batch {batch_index + 1}/{len(train_dataloader)}', end='')\n",
    "\n",
    "                output_logits = self.forward(Q_train.to(device), A_train.to(device))[3] # (BATCH_SIZE, SEQ_LENGTH, VOCAB_SIZE)\n",
    "                \n",
    "                out_shape = output_logits.shape\n",
    "                squeezed_logits = output_logits.reshape((-1, out_shape[2])) # (BATCH * SEQ_LENGTH, VOCAB_SIZE)\n",
    "\n",
    "                loss = loss_fn(input=squeezed_logits, target=Y_train.flatten().type(torch.LongTensor).to(device))\n",
    "\n",
    "                optimizer.zero_grad()\n",
    "                loss.backward()\n",
    "                optimizer.step()\n",
    "\n",
    "                mean_loss = loss.mean().to('cpu').item()\n",
    "                total_train_loss += mean_loss\n",
    "\n",
    "            mean_train_loss = total_train_loss / len(train_dataloader)\n",
    "            train_perplexity = torch.exp(torch.Tensor([mean_train_loss]))[0].item()\n",
    "            \n",
    "            train_losses.append(mean_train_loss)\n",
    "            train_perplexities.append(train_perplexity)\n",
    "\n",
    "            # epoch done\n",
    "            if verbose:\n",
    "                print(f\"\\nTrain Results: Loss: {mean_train_loss} | Perplexity: {train_perplexity}\")\n",
    "\n",
    "\n",
    "            # do test eval\n",
    "            with torch.inference_mode():\n",
    "                self.eval()\n",
    "\n",
    "                for (batch_index, batch) in enumerate(test_dataloader):\n",
    "                    \n",
    "                    (Q_test, A_test, Y_test) = batch # Q, A = (BATCH_SIZE, SEQ_LENGTH, EMBEDDING_SIZE) , Y = (BATCH_SIZE, SEQ_LENGTH)\n",
    "\n",
    "                    output_logits = self.forward(Q_test.to(device), A_test.to(device))[3] # (BATCH_SIZE, SEQ_LENGTH, VOCAB_SIZE)\n",
    "                    \n",
    "                    out_shape = output_logits.shape\n",
    "                    squeezed_logits = output_logits.reshape((out_shape[0] * out_shape[1], out_shape[2])) # (BATCH * SEQ_LENGTH, VOCAB_SIZE)\n",
    "\n",
    "                    loss = loss_fn(input=squeezed_logits, target=Y_test.flatten().type(torch.LongTensor).to(device))\n",
    "\n",
    "                    mean_loss = loss.mean().to('cpu').item()\n",
    "                    total_test_loss += mean_loss\n",
    "\n",
    "                mean_test_loss = total_test_loss / len(test_dataloader)\n",
    "                test_perplexity = torch.exp(torch.Tensor([mean_test_loss]))[0].item()\n",
    "\n",
    "                test_losses.append(mean_test_loss)\n",
    "                test_perplexities.append(test_perplexity)\n",
    "\n",
    "                # epoch done\n",
    "                if verbose:\n",
    "                    print(f\"Test Results:  Loss: {mean_test_loss} | Perplexity: {test_perplexity}\")\n",
    "                    print(\"----------------------------------------\")\n",
    "\n",
    "        return TrainingResult(\n",
    "            num_epochs=num_epochs,\n",
    "            train_loss=train_losses,\n",
    "            test_loss=test_losses,\n",
    "            train_perplexity=train_perplexities,\n",
    "            test_perplexity=test_perplexities\n",
    "        )\n"
   ]
  },
  {
   "cell_type": "code",
   "execution_count": 78,
   "metadata": {},
   "outputs": [
    {
     "name": "stdout",
     "output_type": "stream",
     "text": [
      "Epoch 1/10: Batch 1075/1075\n",
      "Train Results: Loss: 3.4691348432940106 | Perplexity: 32.108951568603516\n",
      "Test Results:  Loss: 2.6807135581970214 | Perplexity: 14.595505714416504\n",
      "----------------------------------------\n",
      "Epoch 2/10: Batch 1075/1075\n",
      "Train Results: Loss: 2.40505727424178 | Perplexity: 11.07906436920166\n",
      "Test Results:  Loss: 2.132480533476229 | Perplexity: 8.43576717376709\n",
      "----------------------------------------\n",
      "Epoch 3/10: Batch 1075/1075\n",
      "Train Results: Loss: 1.966510487157245 | Perplexity: 7.145698070526123\n",
      "Test Results:  Loss: 1.8323706057336595 | Perplexity: 6.248682498931885\n",
      "----------------------------------------\n",
      "Epoch 4/10: Batch 1075/1075\n",
      "Train Results: Loss: 1.7529788529595662 | Perplexity: 5.771770000457764\n",
      "Test Results:  Loss: 1.6814605748211895 | Perplexity: 5.373398780822754\n",
      "----------------------------------------\n",
      "Epoch 5/10: Batch 1075/1075\n",
      "Train Results: Loss: 1.634239569930143 | Perplexity: 5.125558853149414\n",
      "Test Results:  Loss: 1.591857029332055 | Perplexity: 4.9128642082214355\n",
      "----------------------------------------\n",
      "Epoch 6/10: Batch 1075/1075\n",
      "Train Results: Loss: 1.5600522885211678 | Perplexity: 4.759069919586182\n",
      "Test Results:  Loss: 1.531119501149213 | Perplexity: 4.623349666595459\n",
      "----------------------------------------\n",
      "Epoch 7/10: Batch 1075/1075\n",
      "Train Results: Loss: 1.5072166874242383 | Perplexity: 4.514149188995361\n",
      "Test Results:  Loss: 1.4870335433218214 | Perplexity: 4.423952102661133\n",
      "----------------------------------------\n",
      "Epoch 8/10: Batch 1075/1075\n",
      "Train Results: Loss: 1.4663951933661172 | Perplexity: 4.333584785461426\n",
      "Test Results:  Loss: 1.4505254771974352 | Perplexity: 4.265355587005615\n",
      "----------------------------------------\n",
      "Epoch 9/10: Batch 1075/1075\n",
      "Train Results: Loss: 1.4336522147821826 | Perplexity: 4.19398832321167\n",
      "Test Results:  Loss: 1.4231867874110187 | Perplexity: 4.150325775146484\n",
      "----------------------------------------\n",
      "Epoch 10/10: Batch 1075/1075\n",
      "Train Results: Loss: 1.4083019980718923 | Perplexity: 4.089005947113037\n",
      "Test Results:  Loss: 1.4018897069825067 | Perplexity: 4.062870025634766\n",
      "----------------------------------------\n"
     ]
    },
    {
     "data": {
      "text/plain": [
       "TrainingResult(num_epochs=10, train_loss=[3.4691348432940106, 2.40505727424178, 1.966510487157245, 1.7529788529595662, 1.634239569930143, 1.5600522885211678, 1.5072166874242383, 1.4663951933661172, 1.4336522147821826, 1.4083019980718923], test_loss=[2.6807135581970214, 2.132480533476229, 1.8323706057336595, 1.6814605748211895, 1.591857029332055, 1.531119501149213, 1.4870335433218214, 1.4505254771974352, 1.4231867874110187, 1.4018897069825067], train_perplexity=[32.108951568603516, 11.07906436920166, 7.145698070526123, 5.771770000457764, 5.125558853149414, 4.759069919586182, 4.514149188995361, 4.333584785461426, 4.19398832321167, 4.089005947113037], test_perplexity=[14.595505714416504, 8.43576717376709, 6.248682498931885, 5.373398780822754, 4.9128642082214355, 4.623349666595459, 4.423952102661133, 4.265355587005615, 4.150325775146484, 4.062870025634766])"
      ]
     },
     "execution_count": 78,
     "metadata": {},
     "output_type": "execute_result"
    }
   ],
   "source": [
    "model = TrainableEndtoEndModel(EMBEDDING_SIZE, CONTEXT_VECTOR_SIZE, VOCAB_SIZE)\n",
    "#model.load_state_dict(torch.load(\"model_6_epochs\"))\n",
    "model = model.to(device)\n",
    "\n",
    "t1 = model.train_model(10, train_dataloader, test_dataloader)\n",
    "t1"
   ]
  },
  {
   "cell_type": "code",
   "execution_count": 139,
   "metadata": {},
   "outputs": [
    {
     "name": "stdout",
     "output_type": "stream",
     "text": [
      "Epoch 1/5: Batch 1075/1075\n",
      "Train Results: Loss: 1.391599724569986 | Perplexity: 4.021277904510498\n",
      "Test Results:  Loss: 1.385326589036871 | Perplexity: 3.99613094329834\n",
      "----------------------------------------\n",
      "Epoch 2/5: Batch 1075/1075\n",
      "Train Results: Loss: 1.3690563330539438 | Perplexity: 3.931638717651367\n",
      "Test Results:  Loss: 1.3665831707142018 | Perplexity: 3.9219274520874023\n",
      "----------------------------------------\n",
      "Epoch 3/5: Batch 1075/1075\n",
      "Train Results: Loss: 1.3509580173048863 | Perplexity: 3.8611226081848145\n",
      "Test Results:  Loss: 1.3508946502650225 | Perplexity: 3.8608782291412354\n",
      "----------------------------------------\n",
      "Epoch 4/5: Batch 1075/1075\n",
      "Train Results: Loss: 1.3355876134162725 | Perplexity: 3.802229642868042\n",
      "Test Results:  Loss: 1.3380323374712908 | Perplexity: 3.8115363121032715\n",
      "----------------------------------------\n",
      "Epoch 5/5: Batch 1075/1075\n",
      "Train Results: Loss: 1.3222661092669465 | Perplexity: 3.7519140243530273\n",
      "Test Results:  Loss: 1.325672807516875 | Perplexity: 3.7647175788879395\n",
      "----------------------------------------\n"
     ]
    }
   ],
   "source": [
    "t2 = model.train_model(5, train_dataloader, test_dataloader)"
   ]
  },
  {
   "cell_type": "code",
   "execution_count": 140,
   "metadata": {},
   "outputs": [],
   "source": [
    "torch.save(model.state_dict(), \"MODEL_STATE\")"
   ]
  },
  {
   "cell_type": "code",
   "execution_count": 178,
   "metadata": {},
   "outputs": [
    {
     "name": "stdout",
     "output_type": "stream",
     "text": [
      "avail to see it ! as order , what order offer was back ? ^sa\n"
     ]
    }
   ],
   "source": [
    "def generate_output(context: list[str]):\n",
    "\n",
    "    context_embeds = get_embeddings_for_tokens(prepare_context_tokens(context, clean=True)).unsqueeze(0).to(device)\n",
    "\n",
    "    context_vector = model.encoder.forward(context_embeds) # context vector\n",
    "\n",
    "    answer = []\n",
    "\n",
    "    current_token_index = w2v.wv.get_index(BOA)\n",
    "    h_n = torch.stack([context_vector, torch.zeros(1, CONTEXT_VECTOR_SIZE).to(device)])\n",
    "    c_n = torch.zeros(2, 1, CONTEXT_VECTOR_SIZE).to(device)\n",
    "\n",
    "    while current_token_index != w2v.wv.get_index(EOA) and len(answer) < SEQ_LENGTH:\n",
    "        \n",
    "        input = torch.Tensor(w2v.wv[current_token_index]).unsqueeze(0).unsqueeze(0).to(device)\n",
    "\n",
    "        _, h_t, c_t, logits = model.decoder.forward(h_n, c_n, input)\n",
    "\n",
    "        probs = torch.softmax(logits.squeeze(), dim=0)\n",
    "\n",
    "        sampled_index = torch.multinomial(probs, 1)[0].item()\n",
    "        #sampled_index = torch.argmax(probs, 0).item()\n",
    "        \n",
    "        current_token_index = sampled_index\n",
    "        h_n = h_t\n",
    "        c_n = c_t\n",
    "\n",
    "        if sampled_index != w2v.wv.get_index(EOA):\n",
    "            answer.append(sampled_index)\n",
    "\n",
    "    return answer\n",
    "    \n",
    "\n",
    "with torch.inference_mode():\n",
    "    model.eval()\n",
    "    ans = generate_output(\n",
    "        [\n",
    "            'hello how are you?',\n",
    "            'let us know how what \\'s going on ? exactly',\n",
    "            'i hate your customer service'\n",
    "         ]\n",
    "        )\n",
    "\n",
    "    tokens = [w2v.wv.index_to_key[index] for index in ans]\n",
    "    print(' '.join(tokens))"
   ]
  },
  {
   "cell_type": "markdown",
   "metadata": {},
   "source": [
    "# Training Visualization"
   ]
  },
  {
   "cell_type": "code",
   "execution_count": 141,
   "metadata": {},
   "outputs": [
    {
     "data": {
      "text/plain": [
       "TrainingResult(num_epochs=15, train_loss=[3.4691348432940106, 2.40505727424178, 1.966510487157245, 1.7529788529595662, 1.634239569930143, 1.5600522885211678, 1.5072166874242383, 1.4663951933661172, 1.4336522147821826, 1.4083019980718923, 1.391599724569986, 1.3690563330539438, 1.3509580173048863, 1.3355876134162725, 1.3222661092669465], test_loss=[2.6807135581970214, 2.132480533476229, 1.8323706057336595, 1.6814605748211895, 1.591857029332055, 1.531119501149213, 1.4870335433218214, 1.4505254771974352, 1.4231867874110187, 1.4018897069825067, 1.385326589036871, 1.3665831707142018, 1.3508946502650225, 1.3380323374712908, 1.325672807516875], train_perplexity=[32.108951568603516, 11.07906436920166, 7.145698070526123, 5.771770000457764, 5.125558853149414, 4.759069919586182, 4.514149188995361, 4.333584785461426, 4.19398832321167, 4.089005947113037, 4.021277904510498, 3.931638717651367, 3.8611226081848145, 3.802229642868042, 3.7519140243530273], test_perplexity=[14.595505714416504, 8.43576717376709, 6.248682498931885, 5.373398780822754, 4.9128642082214355, 4.623349666595459, 4.423952102661133, 4.265355587005615, 4.150325775146484, 4.062870025634766, 3.99613094329834, 3.9219274520874023, 3.8608782291412354, 3.8115363121032715, 3.7647175788879395])"
      ]
     },
     "execution_count": 141,
     "metadata": {},
     "output_type": "execute_result"
    }
   ],
   "source": [
    "training_results = TrainingResult(\n",
    "    num_epochs=t1.num_epochs + t2.num_epochs,\n",
    "    train_loss=t1.train_loss + t2.train_loss,\n",
    "    test_loss=t1.test_loss + t2.test_loss,\n",
    "    train_perplexity=t1.train_perplexity + t2.train_perplexity,\n",
    "    test_perplexity=t1.test_perplexity + t2.test_perplexity\n",
    ")\n",
    "training_results"
   ]
  },
  {
   "cell_type": "code",
   "execution_count": 150,
   "metadata": {},
   "outputs": [
    {
     "data": {
      "image/png": "[encoded data removed]",
      "text/plain": [
       "<Figure size 640x480 with 1 Axes>"
      ]
     },
     "metadata": {},
     "output_type": "display_data"
    }
   ],
   "source": [
    "import matplotlib.pyplot as plt\n",
    "\n",
    "fig = plt.figure(1)\n",
    "fig.suptitle(\"Loss\")\n",
    "\n",
    "plt.plot(range(1, training_results.num_epochs + 1), training_results.train_loss, color='g', label='Train Loss')\n",
    "plt.plot(range(1, training_results.num_epochs + 1), training_results.test_loss, color='b', label='Test Loss')\n",
    "plt.xlabel(\"Epochs\")\n",
    "plt.ylabel(\"Loss (CrossEntropy)\")\n",
    "plt.legend()\n",
    "plt.show()"
   ]
  },
  {
   "cell_type": "code",
   "execution_count": 151,
   "metadata": {},
   "outputs": [
    {
     "data": {
      "image/png": "[encoded data removed]",
      "text/plain": [
       "<Figure size 640x480 with 1 Axes>"
      ]
     },
     "metadata": {},
     "output_type": "display_data"
    }
   ],
   "source": [
    "fig = plt.figure(1)\n",
    "fig.suptitle(\"Perplexity\")\n",
    "\n",
    "plt.plot(range(1, training_results.num_epochs + 1), training_results.train_perplexity, color='g', label='Train Perplexity')\n",
    "plt.plot(range(1, training_results.num_epochs + 1), training_results.test_perplexity, color='b', label='Test Perplexity')\n",
    "plt.xlabel(\"Epochs\")\n",
    "plt.ylabel(\"Perplexity\")\n",
    "plt.legend()\n",
    "plt.show()"
   ]
  },
  {
   "cell_type": "markdown",
   "metadata": {},
   "source": [
    "# Testing bot"
   ]
  },
  {
   "cell_type": "code",
   "execution_count": 179,
   "metadata": {},
   "outputs": [],
   "source": [
    "class Chat:\n",
    "\n",
    "    def __init__(self, model, device) -> None:\n",
    "        self.model = model\n",
    "        self.device = device\n",
    "        self.context = []\n",
    "\n",
    "    def generate_answer(self, question: str) -> str:\n",
    "        \n",
    "        with torch.inference_mode():\n",
    "            model.eval()\n",
    "            \n",
    "            self.context.append(question)\n",
    "            out = generate_output(self.context)\n",
    "            answer = ' '.join([w2v.wv.index_to_key[index] for index in out])\n",
    "\n",
    "            self.context.append(answer)\n",
    "            return answer"
   ]
  },
  {
   "cell_type": "code",
   "execution_count": 180,
   "metadata": {},
   "outputs": [
    {
     "name": "stdout",
     "output_type": "stream",
     "text": [
      "Client> hello there please help me\n",
      "Agent>  if you 've sent us the direct message , the email linked , had following a shot addresses , and we 'll update your device - 11.1.1 . and keep us posted if the one arrive ,\n",
      "Client> i have a problem with my iphone\n",
      "Agent>  we 'd be happy to assist with you . send us dm the ios version and we 'll go from there . that does n't sound right here :\n",
      "Client> my ios is 11.1 and the battery started to drain quickly\n",
      "Agent>  we try to the family steps . we 'll suggest there us here : /mu\n",
      "Client> no don't do that\n",
      "Agent>  here to help . send us a note at so our team can connect .\n",
      "Client> i already sent you but no one responded\n",
      "Agent>  we 'd love to help . please let us know out with your device . 2 : how here for be right . we are there on your order info . when we 'd love to provide that feature here here : ^pk\n",
      "Client> bad agent\n",
      "Agent>  when you have never exchange level of your update and our best team . kindly fill forward the with available options . it will receive from our support . ^hd\n",
      "Client> "
     ]
    }
   ],
   "source": [
    "c = Chat(model, device)\n",
    "\n",
    "while True:\n",
    "    try:\n",
    "        print(\"Client> \", end='')\n",
    "        question = input()\n",
    "        print(question)\n",
    "        answer = c.generate_answer(question)\n",
    "        print(\"Agent> \", answer)\n",
    "    except KeyboardInterrupt:\n",
    "        break"
   ]
  },
  {
   "cell_type": "code",
   "execution_count": 173,
   "metadata": {},
   "outputs": [
    {
     "name": "stdout",
     "output_type": "stream",
     "text": [
      "Client> hello there can you help me with my package\n",
      "Agent>  i 'm afraid we ca n't cause it wo n't help you soon now if the item , do you receive a demand delivery as delivery date : ^td\n",
      "Client> i didn't even tell you the problem yet\n",
      "Agent>  kindly check with this at the account seems from the additional form ( 1/2 ) ^cr\n",
      "Client> hmm, you are speaking nonsense\n",
      "Agent>  we 'll reach out to you with them ! if\n",
      "Client> who are 'them'\n",
      "Agent>  upload destinations balance & feedback ) , please reach us via twitter in english . contact us for help in with review these review :\n",
      "Client> the package is marked as deliverd but I didn't receive it\n",
      "Agent>  sorry for the delay ! we 'd like to provide your information via ; email ! ^dd\n",
      "Client> good agent\n",
      "Agent>  we 're so sorry for it ! send us a the bottom so we can further assist .\n",
      "Client> "
     ]
    }
   ],
   "source": [
    "c2 = Chat(model, device)\n",
    "\n",
    "while True:\n",
    "    try:\n",
    "        print(\"Client> \", end='')\n",
    "        question = input()\n",
    "        print(question)\n",
    "        answer = c2.generate_answer(question)\n",
    "        print(\"Agent> \", answer)\n",
    "    except KeyboardInterrupt:\n",
    "        break"
   ]
  },
  {
   "cell_type": "code",
   "execution_count": 181,
   "metadata": {},
   "outputs": [
    {
     "name": "stdout",
     "output_type": "stream",
     "text": [
      "Client> my uber driver was late and i was late to work \n",
      "Agent>  here to help ! send us a note via so our team can assist .\n",
      "Client> i already sent you a dm but no one answered me\n",
      "Agent>  have your order code and we 'd like to take a closer look on the situation . have you contact us here : we have received your details via email ?\n",
      "Client> i don't understand what you mean\n",
      "Agent>  ^sg\n",
      "Client> what?\n",
      "Agent>  that 's odd , but we did n't change available on features and hours shown , but you have any clarification as long reply by text to ship , but for worry ! you can check again while ja ?\n",
      "Client> please i want you to refund my ride, i am not paying you a dime\n",
      "Agent>  i 'm unable to get it comments were updated ? 2/2 i 'll see our sellers we have upset . kindly drop your details via twitter . ^ac\n",
      "Client> "
     ]
    }
   ],
   "source": [
    "c = Chat(model, device)\n",
    "\n",
    "while True:\n",
    "    try:\n",
    "        print(\"Client> \", end='')\n",
    "        question = input()\n",
    "        print(question)\n",
    "        answer = c.generate_answer(question)\n",
    "        print(\"Agent> \", answer)\n",
    "    except KeyboardInterrupt:\n",
    "        break"
   ]
  }
 ],
 "metadata": {
  "kernelspec": {
   "display_name": "Python 3",
   "language": "python",
   "name": "python3"
  },
  "language_info": {
   "codemirror_mode": {
    "name": "ipython",
    "version": 3
   },
   "file_extension": ".py",
   "mimetype": "text/x-python",
   "name": "python",
   "nbconvert_exporter": "python",
   "pygments_lexer": "ipython3",
   "version": "3.12.2"
  }
 },
 "nbformat": 4,
 "nbformat_minor": 2
}
