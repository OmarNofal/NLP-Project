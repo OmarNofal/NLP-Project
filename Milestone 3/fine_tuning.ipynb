{
 "cells": [
  {
   "cell_type": "markdown",
   "metadata": {},
   "source": [
    "# Imports"
   ]
  },
  {
   "cell_type": "code",
   "execution_count": 1,
   "metadata": {},
   "outputs": [
    {
     "name": "stderr",
     "output_type": "stream",
     "text": [
      "C:\\Users\\omarw\\AppData\\Roaming\\Python\\Python312\\site-packages\\tqdm\\auto.py:21: TqdmWarning: IProgress not found. Please update jupyter and ipywidgets. See https://ipywidgets.readthedocs.io/en/stable/user_install.html\n",
      "  from .autonotebook import tqdm as notebook_tqdm\n"
     ]
    }
   ],
   "source": [
    "import torch\n",
    "import numpy as np\n",
    "import pickle as pkl\n",
    "from dataclasses import dataclass\n",
    "import re\n",
    "from torch.utils.data import DataLoader\n",
    "from transformers import T5Tokenizer, T5ForConditionalGeneration"
   ]
  },
  {
   "cell_type": "markdown",
   "metadata": {},
   "source": [
    "# Data Loading and Cleaning"
   ]
  },
  {
   "cell_type": "code",
   "execution_count": 2,
   "metadata": {},
   "outputs": [],
   "source": [
    "@dataclass\n",
    "class ConversationEntry:\n",
    "\n",
    "    is_customer: bool\n",
    "    text: str\n",
    "\n",
    "@dataclass\n",
    "class Conversation:\n",
    "\n",
    "    customer_id: int\n",
    "    brand_name: str\n",
    "    entries: list[ConversationEntry] # this alternates between customer entry and agent entry"
   ]
  },
  {
   "cell_type": "code",
   "execution_count": 3,
   "metadata": {},
   "outputs": [],
   "source": [
    "convos: list[Conversation] = []\n",
    "with open('../../archive/convos.pkl', 'rb') as f:\n",
    "    convos = pkl.load(f)"
   ]
  },
  {
   "cell_type": "code",
   "execution_count": 4,
   "metadata": {},
   "outputs": [
    {
     "data": {
      "text/plain": [
       "787346"
      ]
     },
     "execution_count": 4,
     "metadata": {},
     "output_type": "execute_result"
    }
   ],
   "source": [
    "len(convos)"
   ]
  },
  {
   "cell_type": "code",
   "execution_count": 3,
   "metadata": {},
   "outputs": [],
   "source": [
    "def print_convo(convo: Conversation):\n",
    "    \n",
    "    str_len = max(len(convo.brand_name), len(str(convo.customer_id))) + 1\n",
    "\n",
    "    for entry in convo.entries:\n",
    "        print((str(convo.customer_id) + \">\").ljust(str_len) if entry.is_customer else (convo.brand_name+ \">\").ljust(str_len) , end = ' ')\n",
    "        print(entry.text)"
   ]
  },
  {
   "cell_type": "code",
   "execution_count": 6,
   "metadata": {},
   "outputs": [
    {
     "name": "stdout",
     "output_type": "stream",
     "text": [
      "115861>        Hello, internet. Can someone explain why this symbol keeps appearing on my phone and when I️ try to type the letter I️? Also @AppleSupport https://t.co/QKwvTLtiN7\n",
      "AppleSupport>  @115861 You're in the right place; we'll do all we can to help. To start, let us know what iOS version is installed via DM: https://t.co/GDrqU22YpT\n",
      "115861>        @AppleSupport @115861 We’re going to need you to share the answers Angela. I️ can’t stand this! @115862 @AppleSupport I will! @115861 @115862 @AppleSupport I️ upgraded. I️t didn’t work.\n",
      "AppleSupport>  @115860 Reach out to us via DM, and we can take a look at this with you. https://t.co/GDrqU22YpT\n",
      "115861>        @115860 @115862 @AppleSupport Didn’t work for me either😔\n"
     ]
    }
   ],
   "source": [
    "print_convo(convos[100])"
   ]
  },
  {
   "cell_type": "code",
   "execution_count": 7,
   "metadata": {},
   "outputs": [],
   "source": [
    "def clean_message(text: str):\n",
    "    # Remove links\n",
    "    text = re.sub(r'http\\S+', '', text)\n",
    "   \n",
    "    # Remove mentions \n",
    "    text = re.sub(r'@\\w+', '', text)\n",
    "    \n",
    "    # Remove non-ascii characters (to remove emojis, and other languages maybe)\n",
    "    text = ''.join(char for char in text if ord(char) < 128)\n",
    "\n",
    "    return text.strip()\n"
   ]
  },
  {
   "cell_type": "code",
   "execution_count": 8,
   "metadata": {},
   "outputs": [],
   "source": [
    "import dataclasses\n",
    "\n",
    "def clean_convos(convos: list[Conversation], copy=True):\n",
    "    if copy:\n",
    "        new_convos: list[Conversation] = []\n",
    "\n",
    "    for c in convos:\n",
    "        if copy:\n",
    "            new_entries: list[ConversationEntry] = []\n",
    "\n",
    "        for e in c.entries:\n",
    "            cleaned_message = clean_message(e.text)\n",
    "            if copy:\n",
    "                new_entries.append(dataclasses.replace(e, text=cleaned_message))\n",
    "            else:\n",
    "                e.text = cleaned_message\n",
    "\n",
    "        if copy:\n",
    "            new_convos.append(dataclasses.replace(c, entries = new_entries))\n",
    "\n",
    "    if copy:\n",
    "        return new_convos         "
   ]
  },
  {
   "cell_type": "code",
   "execution_count": 4,
   "metadata": {},
   "outputs": [],
   "source": [
    "import os\n",
    "if os.path.exists('./cleaned'):\n",
    "    with open('./cleaned', 'rb') as f:\n",
    "        cleaned_convos = pkl.load(f)\n",
    "else:\n",
    "    cleaned_convos = clean_convos(convos, copy=True)\n",
    "    with open('./cleaned', 'wb') as f:\n",
    "        pkl.dump(cleaned_convos, f)"
   ]
  },
  {
   "cell_type": "code",
   "execution_count": 5,
   "metadata": {},
   "outputs": [
    {
     "name": "stdout",
     "output_type": "stream",
     "text": [
      "115861>       Hello, internet. Can someone explain why this symbol keeps appearing on my phone and when I try to type the letter I? Also\n",
      "AppleSupport> You're in the right place; we'll do all we can to help. To start, let us know what iOS version is installed via DM:\n",
      "115861>       Were going to need you to share the answers Angela. I cant stand this!   I will!    I upgraded. It didnt work.\n",
      "AppleSupport> Reach out to us via DM, and we can take a look at this with you.\n",
      "115861>       Didnt work for me either\n"
     ]
    }
   ],
   "source": [
    "print_convo(cleaned_convos[100])"
   ]
  },
  {
   "cell_type": "markdown",
   "metadata": {},
   "source": [
    "# Model Loading"
   ]
  },
  {
   "cell_type": "code",
   "execution_count": 6,
   "metadata": {},
   "outputs": [
    {
     "name": "stderr",
     "output_type": "stream",
     "text": [
      "C:\\Users\\omarw\\AppData\\Roaming\\Python\\Python312\\site-packages\\huggingface_hub\\file_download.py:1132: FutureWarning: `resume_download` is deprecated and will be removed in version 1.0.0. Downloads always resume when possible. If you want to force a new download, use `force_download=True`.\n",
      "  warnings.warn(\n",
      "Special tokens have been added in the vocabulary, make sure the associated word embeddings are fine-tuned or trained.\n"
     ]
    }
   ],
   "source": [
    "tokenizer: T5Tokenizer = T5Tokenizer.from_pretrained('google/t5-efficient-tiny', legacy=False)\n",
    "# model: T5ForConditionalGeneration = T5ForConditionalGeneration.from_pretrained('google/t5-efficient-tiny')\n",
    "model: T5ForConditionalGeneration = torch.load('./checkpoint3')"
   ]
  },
  {
   "cell_type": "code",
   "execution_count": 10,
   "metadata": {},
   "outputs": [],
   "source": [
    "from torch.utils.data import Dataset\n",
    "\n",
    "\n",
    "class QADataset(Dataset):\n",
    "\n",
    "    def __init__(self, convos: list[Conversation]):\n",
    "        \n",
    "        self.dataset = []\n",
    "\n",
    "        for c in convos:\n",
    "            contexts, answers = QADataset.generate_convo_qa_pairs(c)\n",
    "            \n",
    "            for con, ans in zip(contexts, answers):\n",
    "                self.dataset.append((con, ans))\n",
    "\n",
    "    @staticmethod\n",
    "    def generate_convo_qa_pairs(convo: Conversation):\n",
    "        \"\"\"\n",
    "        Returns a list of all questions, along with a list of all answers to each question\n",
    "        \"\"\"\n",
    "        entries = convo.entries\n",
    "        \n",
    "        contexts = []\n",
    "        answers = []\n",
    "        for i in range(len(entries) - 1):\n",
    "            entry = entries[i]\n",
    "\n",
    "            if entry.is_customer: # this is a question\n",
    "\n",
    "                inputs = tokenizer(\n",
    "                    text=entries[i].text,\n",
    "                    add_special_tokens=True,\n",
    "                    padding=\"max_length\",\n",
    "                    max_length=64,\n",
    "                    truncation=True,\n",
    "                    return_attention_mask=True,\n",
    "                    return_tensors='pt'\n",
    "                )\n",
    "                \n",
    "                output_ids = tokenizer(\n",
    "                    text=convo.brand_name + \": \" + entries[i+1].text,\n",
    "                    add_special_tokens=True,\n",
    "                    padding=\"max_length\",\n",
    "                    max_length=64,\n",
    "                    truncation=True,\n",
    "                    return_tensors='pt',\n",
    "                    return_attention_mask=False\n",
    "                ).input_ids.squeeze()\n",
    "\n",
    "                output_ids[output_ids == tokenizer.pad_token_id] = -100\n",
    "                contexts.append(inputs)\n",
    "                answers.append(output_ids)\n",
    "\n",
    "        return contexts, answers\n",
    "\n",
    "    def __len__(self):\n",
    "        return len(self.dataset)\n",
    "\n",
    "    def __getitem__(self, index: int):\n",
    "        inputs, ans = self.dataset[index]\n",
    "        return inputs.input_ids.squeeze(), ans, inputs.attention_mask.squeeze()\n",
    "\n",
    "        # inputs = tokenizer(\n",
    "        #     text=con,\n",
    "        #     add_special_tokens=True,\n",
    "        #     padding=\"max_length\",\n",
    "        #     max_length=64,\n",
    "        #     truncation=True,\n",
    "        #     return_attention_mask=True,\n",
    "        #     return_tensors='pt'\n",
    "        # )\n",
    "        \n",
    "        # output_ids = tokenizer(\n",
    "        #     text=ans,\n",
    "        #     add_special_tokens=True,\n",
    "        #     padding=\"max_length\",\n",
    "        #     max_length=64,\n",
    "        #     truncation=True,\n",
    "        #     return_tensors='pt',\n",
    "        #     return_attention_mask=False\n",
    "        # ).input_ids.squeeze()\n",
    "\n",
    "        # # ignore <pad> by the loss\n",
    "        # output_ids[output_ids == tokenizer.pad_token_id] = -100\n",
    "\n",
    "        # return inputs.input_ids.squeeze(), output_ids, inputs.attention_mask.squeeze()"
   ]
  },
  {
   "cell_type": "code",
   "execution_count": 11,
   "metadata": {},
   "outputs": [],
   "source": [
    "SPLIT = 0.8\n",
    "import random\n",
    "\n",
    "random.shuffle(cleaned_convos)\n",
    "\n",
    "cleaned_convos = cleaned_convos[0: int(0.3333 * len(cleaned_convos))]\n",
    "num_convos = len(cleaned_convos)\n",
    "\n",
    "train_convos = cleaned_convos[:int(0.8 * num_convos)]\n",
    "test_convos = cleaned_convos[int(0.8* num_convos): ]\n",
    "\n",
    "train_dataset = QADataset(train_convos)\n",
    "test_dataset = QADataset(test_convos)"
   ]
  },
  {
   "cell_type": "code",
   "execution_count": 12,
   "metadata": {},
   "outputs": [
    {
     "data": {
      "text/plain": [
       "(tensor([ 9459,   429, 14371,     9,   317,    81, 22107,  1519,     3,     9,\n",
       "           385,   394,    34,    19,  5098,   997,   189,  1233,   233, 19712,\n",
       "          3285, 16752,    33,   833,    71, 19046, 16847,  1233,   233,   427,\n",
       "          2644,     9,  2011,   382,   291,  2782,     1,     0,     0,     0,\n",
       "             0,     0,     0,     0,     0,     0,     0,     0,     0,     0,\n",
       "             0,     0,     0,     0,     0,     0,     0,     0,     0,     0,\n",
       "             0,     0,     0,     0]),\n",
       " tensor([ 8366,   382,   291,  2782,    10,  1333,    21,     3,  8035,   178,\n",
       "           214,    81,    48,     5,   101,   103,   240, 11426,   463,   182,\n",
       "          5830,    11,    62,    31,    60,  5657,    48,   251,   147,    12,\n",
       "             8,  4857,    77,     9,  8554,  2110,    63,   372,     5,  1563,\n",
       "           178,   214,     3,    99,    25,  2944,     8,  3285,    11,    62,\n",
       "            31,   195, 29560,    25,    21,    34,     5,   101,  3653,    25,\n",
       "          2309,    28,   178,     1]),\n",
       " tensor([1, 1, 1, 1, 1, 1, 1, 1, 1, 1, 1, 1, 1, 1, 1, 1, 1, 1, 1, 1, 1, 1, 1, 1,\n",
       "         1, 1, 1, 1, 1, 1, 1, 1, 1, 1, 1, 1, 1, 0, 0, 0, 0, 0, 0, 0, 0, 0, 0, 0,\n",
       "         0, 0, 0, 0, 0, 0, 0, 0, 0, 0, 0, 0, 0, 0, 0, 0]))"
      ]
     },
     "execution_count": 12,
     "metadata": {},
     "output_type": "execute_result"
    }
   ],
   "source": [
    "train_dataset.__getitem__(4)"
   ]
  },
  {
   "cell_type": "code",
   "execution_count": 13,
   "metadata": {},
   "outputs": [
    {
     "data": {
      "text/plain": [
       "12422528"
      ]
     },
     "execution_count": 13,
     "metadata": {},
     "output_type": "execute_result"
    }
   ],
   "source": [
    "pytorch_total_params = sum(p.numel() for p in model.parameters() if p.requires_grad)\n",
    "pytorch_total_params"
   ]
  },
  {
   "cell_type": "code",
   "execution_count": 14,
   "metadata": {},
   "outputs": [
    {
     "data": {
      "text/plain": [
       "T5ForConditionalGeneration(\n",
       "  (shared): Embedding(32128, 256)\n",
       "  (encoder): T5Stack(\n",
       "    (embed_tokens): Embedding(32128, 256)\n",
       "    (block): ModuleList(\n",
       "      (0): T5Block(\n",
       "        (layer): ModuleList(\n",
       "          (0): T5LayerSelfAttention(\n",
       "            (SelfAttention): T5Attention(\n",
       "              (q): Linear(in_features=256, out_features=256, bias=False)\n",
       "              (k): Linear(in_features=256, out_features=256, bias=False)\n",
       "              (v): Linear(in_features=256, out_features=256, bias=False)\n",
       "              (o): Linear(in_features=256, out_features=256, bias=False)\n",
       "              (relative_attention_bias): Embedding(32, 4)\n",
       "            )\n",
       "            (layer_norm): T5LayerNorm()\n",
       "            (dropout): Dropout(p=0.1, inplace=False)\n",
       "          )\n",
       "          (1): T5LayerFF(\n",
       "            (DenseReluDense): T5DenseActDense(\n",
       "              (wi): Linear(in_features=256, out_features=1024, bias=False)\n",
       "              (wo): Linear(in_features=1024, out_features=256, bias=False)\n",
       "              (dropout): Dropout(p=0.1, inplace=False)\n",
       "              (act): ReLU()\n",
       "            )\n",
       "            (layer_norm): T5LayerNorm()\n",
       "            (dropout): Dropout(p=0.1, inplace=False)\n",
       "          )\n",
       "        )\n",
       "      )\n",
       "      (1-3): 3 x T5Block(\n",
       "        (layer): ModuleList(\n",
       "          (0): T5LayerSelfAttention(\n",
       "            (SelfAttention): T5Attention(\n",
       "              (q): Linear(in_features=256, out_features=256, bias=False)\n",
       "              (k): Linear(in_features=256, out_features=256, bias=False)\n",
       "              (v): Linear(in_features=256, out_features=256, bias=False)\n",
       "              (o): Linear(in_features=256, out_features=256, bias=False)\n",
       "            )\n",
       "            (layer_norm): T5LayerNorm()\n",
       "            (dropout): Dropout(p=0.1, inplace=False)\n",
       "          )\n",
       "          (1): T5LayerFF(\n",
       "            (DenseReluDense): T5DenseActDense(\n",
       "              (wi): Linear(in_features=256, out_features=1024, bias=False)\n",
       "              (wo): Linear(in_features=1024, out_features=256, bias=False)\n",
       "              (dropout): Dropout(p=0.1, inplace=False)\n",
       "              (act): ReLU()\n",
       "            )\n",
       "            (layer_norm): T5LayerNorm()\n",
       "            (dropout): Dropout(p=0.1, inplace=False)\n",
       "          )\n",
       "        )\n",
       "      )\n",
       "    )\n",
       "    (final_layer_norm): T5LayerNorm()\n",
       "    (dropout): Dropout(p=0.1, inplace=False)\n",
       "  )\n",
       "  (decoder): T5Stack(\n",
       "    (embed_tokens): Embedding(32128, 256)\n",
       "    (block): ModuleList(\n",
       "      (0): T5Block(\n",
       "        (layer): ModuleList(\n",
       "          (0): T5LayerSelfAttention(\n",
       "            (SelfAttention): T5Attention(\n",
       "              (q): Linear(in_features=256, out_features=256, bias=False)\n",
       "              (k): Linear(in_features=256, out_features=256, bias=False)\n",
       "              (v): Linear(in_features=256, out_features=256, bias=False)\n",
       "              (o): Linear(in_features=256, out_features=256, bias=False)\n",
       "              (relative_attention_bias): Embedding(32, 4)\n",
       "            )\n",
       "            (layer_norm): T5LayerNorm()\n",
       "            (dropout): Dropout(p=0.1, inplace=False)\n",
       "          )\n",
       "          (1): T5LayerCrossAttention(\n",
       "            (EncDecAttention): T5Attention(\n",
       "              (q): Linear(in_features=256, out_features=256, bias=False)\n",
       "              (k): Linear(in_features=256, out_features=256, bias=False)\n",
       "              (v): Linear(in_features=256, out_features=256, bias=False)\n",
       "              (o): Linear(in_features=256, out_features=256, bias=False)\n",
       "            )\n",
       "            (layer_norm): T5LayerNorm()\n",
       "            (dropout): Dropout(p=0.1, inplace=False)\n",
       "          )\n",
       "          (2): T5LayerFF(\n",
       "            (DenseReluDense): T5DenseActDense(\n",
       "              (wi): Linear(in_features=256, out_features=1024, bias=False)\n",
       "              (wo): Linear(in_features=1024, out_features=256, bias=False)\n",
       "              (dropout): Dropout(p=0.1, inplace=False)\n",
       "              (act): ReLU()\n",
       "            )\n",
       "            (layer_norm): T5LayerNorm()\n",
       "            (dropout): Dropout(p=0.1, inplace=False)\n",
       "          )\n",
       "        )\n",
       "      )\n",
       "      (1-3): 3 x T5Block(\n",
       "        (layer): ModuleList(\n",
       "          (0): T5LayerSelfAttention(\n",
       "            (SelfAttention): T5Attention(\n",
       "              (q): Linear(in_features=256, out_features=256, bias=False)\n",
       "              (k): Linear(in_features=256, out_features=256, bias=False)\n",
       "              (v): Linear(in_features=256, out_features=256, bias=False)\n",
       "              (o): Linear(in_features=256, out_features=256, bias=False)\n",
       "            )\n",
       "            (layer_norm): T5LayerNorm()\n",
       "            (dropout): Dropout(p=0.1, inplace=False)\n",
       "          )\n",
       "          (1): T5LayerCrossAttention(\n",
       "            (EncDecAttention): T5Attention(\n",
       "              (q): Linear(in_features=256, out_features=256, bias=False)\n",
       "              (k): Linear(in_features=256, out_features=256, bias=False)\n",
       "              (v): Linear(in_features=256, out_features=256, bias=False)\n",
       "              (o): Linear(in_features=256, out_features=256, bias=False)\n",
       "            )\n",
       "            (layer_norm): T5LayerNorm()\n",
       "            (dropout): Dropout(p=0.1, inplace=False)\n",
       "          )\n",
       "          (2): T5LayerFF(\n",
       "            (DenseReluDense): T5DenseActDense(\n",
       "              (wi): Linear(in_features=256, out_features=1024, bias=False)\n",
       "              (wo): Linear(in_features=1024, out_features=256, bias=False)\n",
       "              (dropout): Dropout(p=0.1, inplace=False)\n",
       "              (act): ReLU()\n",
       "            )\n",
       "            (layer_norm): T5LayerNorm()\n",
       "            (dropout): Dropout(p=0.1, inplace=False)\n",
       "          )\n",
       "        )\n",
       "      )\n",
       "    )\n",
       "    (final_layer_norm): T5LayerNorm()\n",
       "    (dropout): Dropout(p=0.1, inplace=False)\n",
       "  )\n",
       "  (lm_head): Linear(in_features=256, out_features=32128, bias=False)\n",
       ")"
      ]
     },
     "execution_count": 14,
     "metadata": {},
     "output_type": "execute_result"
    }
   ],
   "source": [
    "model.to('cuda')"
   ]
  },
  {
   "cell_type": "code",
   "execution_count": 17,
   "metadata": {},
   "outputs": [
    {
     "data": {
      "text/plain": [
       "['Hello', ',', 'O', 'mar', '</s>']"
      ]
     },
     "execution_count": 17,
     "metadata": {},
     "output_type": "execute_result"
    }
   ],
   "source": [
    "tokenizer.batch_decode(tokenizer('Hello, Omar').input_ids)"
   ]
  },
  {
   "cell_type": "code",
   "execution_count": 15,
   "metadata": {},
   "outputs": [
    {
     "data": {
      "text/plain": [
       "62282752"
      ]
     },
     "execution_count": 15,
     "metadata": {},
     "output_type": "execute_result"
    }
   ],
   "source": [
    "model.get_memory_footprint()"
   ]
  },
  {
   "cell_type": "markdown",
   "metadata": {},
   "source": [
    "# Training"
   ]
  },
  {
   "cell_type": "code",
   "execution_count": 20,
   "metadata": {},
   "outputs": [],
   "source": [
    "@dataclass\n",
    "class TrainingResult:\n",
    "\n",
    "    num_epochs: int\n",
    "    \n",
    "    train_loss: list[float]\n",
    "    test_loss: list[float]\n",
    "    \n",
    "    train_perplexity: list[float]\n",
    "    test_perplexity: list[float]"
   ]
  },
  {
   "cell_type": "code",
   "execution_count": 17,
   "metadata": {},
   "outputs": [
    {
     "name": "stdout",
     "output_type": "stream",
     "text": [
      "torch.Size([32, 64])\n"
     ]
    }
   ],
   "source": [
    "for (batch_index, batch) in enumerate(DataLoader(train_dataset, batch_size=32)):\n",
    "    print(batch[1].shape)\n",
    "    break"
   ]
  },
  {
   "cell_type": "code",
   "execution_count": 18,
   "metadata": {},
   "outputs": [],
   "source": [
    "for param in model.encoder.parameters():\n",
    "    param.requires_grad = False"
   ]
  },
  {
   "cell_type": "code",
   "execution_count": 19,
   "metadata": {},
   "outputs": [],
   "source": [
    "for param in model.decoder.parameters():\n",
    "    param.requires_grad = True"
   ]
  },
  {
   "cell_type": "code",
   "execution_count": 20,
   "metadata": {},
   "outputs": [],
   "source": [
    "for param in model.lm_head.parameters():\n",
    "    param.requires_grad = True"
   ]
  },
  {
   "cell_type": "code",
   "execution_count": 21,
   "metadata": {},
   "outputs": [
    {
     "data": {
      "text/plain": [
       "12422528"
      ]
     },
     "execution_count": 21,
     "metadata": {},
     "output_type": "execute_result"
    }
   ],
   "source": [
    "model.num_parameters(only_trainable=True)"
   ]
  },
  {
   "cell_type": "code",
   "execution_count": 22,
   "metadata": {},
   "outputs": [],
   "source": [
    "from torch.optim.adam import Adam\n",
    "device = 'cuda'\n",
    "\n",
    "def train_model(\n",
    "model,\n",
    "num_epochs: int, \n",
    "train_dataloader: DataLoader, \n",
    "test_dataloader: DataLoader, \n",
    "verbose: bool=True\n",
    ") -> TrainingResult:\n",
    "\n",
    "    optimizer = Adam(params=model.parameters(), lr=3e-4)\n",
    "\n",
    "    train_losses = []\n",
    "    test_losses = []\n",
    "\n",
    "    train_perplexities = []\n",
    "    test_perplexities = []\n",
    "\n",
    "    for e in range(num_epochs):\n",
    "        \n",
    "        total_train_loss = 0\n",
    "        total_test_loss = 0\n",
    "\n",
    "        train_perplexity = 0\n",
    "        test_perplexity = 0\n",
    "\n",
    "        model.train()\n",
    "\n",
    "        for (batch_index, batch) in enumerate(train_dataloader):\n",
    "            \n",
    "            (Q_train, A_train, attention_mask) = batch # Q, A = (BATCH_SIZE, SEQ_LENGTH)\n",
    "            \n",
    "            if verbose:\n",
    "                print(f'\\rEpoch {e + 1}/{num_epochs}: Batch {batch_index + 1}/{len(train_dataloader)}', end='')\n",
    "\n",
    "            foward_pass = model.forward(input_ids=Q_train.to(device), labels=A_train.to(device), attention_mask=attention_mask.to(device)) # (BATCH_SIZE, SEQ_LENGTH, VOCAB_SIZE)\n",
    "            loss = foward_pass.loss\n",
    "\n",
    "            optimizer.zero_grad()\n",
    "            loss.backward()\n",
    "            optimizer.step()\n",
    "\n",
    "            mean_loss = loss.mean().to('cpu').item()\n",
    "            total_train_loss += mean_loss\n",
    "\n",
    "        mean_train_loss = total_train_loss / len(train_dataloader)\n",
    "        train_perplexity = torch.exp(torch.Tensor([mean_train_loss]))[0].item()\n",
    "        \n",
    "        train_losses.append(mean_train_loss)\n",
    "        train_perplexities.append(train_perplexity)\n",
    "\n",
    "        # epoch done\n",
    "        if verbose:\n",
    "            print(f\"\\nTrain Results: Loss: {mean_train_loss} | Perplexity: {train_perplexity}\")\n",
    "\n",
    "\n",
    "        # do test eval\n",
    "        with torch.inference_mode():\n",
    "            model.eval()\n",
    "\n",
    "            for (batch_index, batch) in enumerate(test_dataloader):\n",
    "                \n",
    "                (Q_test, A_test, attention_mask) = batch # Q, A = (BATCH_SIZE, SEQ_LENGTH)\n",
    "\n",
    "                forward_pass = model.forward(input_ids=Q_test.to(device), labels=A_test.to(device), attention_mask=attention_mask.to(device))\n",
    "                \n",
    "                loss = forward_pass.loss\n",
    "\n",
    "                mean_loss = loss.mean().to('cpu').item()\n",
    "                total_test_loss += mean_loss\n",
    "\n",
    "            mean_test_loss = total_test_loss / len(test_dataloader)\n",
    "            test_perplexity = torch.exp(torch.Tensor([mean_test_loss]))[0].item()\n",
    "\n",
    "            test_losses.append(mean_test_loss)\n",
    "            test_perplexities.append(test_perplexity)\n",
    "\n",
    "            # epoch done\n",
    "            if verbose:\n",
    "                print(f\"Test Results:  Loss: {mean_test_loss} | Perplexity: {test_perplexity}\")\n",
    "                print(\"----------------------------------------\")\n",
    "\n",
    "    return TrainingResult(\n",
    "        num_epochs=num_epochs,\n",
    "        train_loss=train_losses,\n",
    "        test_loss=test_losses,\n",
    "        train_perplexity=train_perplexities,\n",
    "        test_perplexity=test_perplexities\n",
    "    )\n"
   ]
  },
  {
   "cell_type": "code",
   "execution_count": 28,
   "metadata": {},
   "outputs": [
    {
     "name": "stdout",
     "output_type": "stream",
     "text": [
      "Epoch 1/3: Batch 8178/8178\n",
      "Train Results: Loss: 9.255488750432574 | Perplexity: 10461.8271484375\n",
      "Test Results:  Loss: 4.861909271102264 | Perplexity: 129.2707977294922\n",
      "----------------------------------------\n",
      "Epoch 2/3: Batch 8178/8178\n",
      "Train Results: Loss: 6.667969923959323 | Perplexity: 786.7965698242188\n",
      "Test Results:  Loss: 4.151704169088794 | Perplexity: 63.54220199584961\n",
      "----------------------------------------\n",
      "Epoch 3/3: Batch 8178/8178\n",
      "Train Results: Loss: 5.979713709029629 | Perplexity: 395.3272399902344\n",
      "Test Results:  Loss: 3.900352454022345 | Perplexity: 49.419864654541016\n",
      "----------------------------------------\n"
     ]
    }
   ],
   "source": [
    "t1 = train_model(\n",
    "    model=model,\n",
    "    num_epochs=3, \n",
    "    train_dataloader=DataLoader(train_dataset, 36), \n",
    "    test_dataloader=DataLoader(test_dataset, 36) \n",
    ")"
   ]
  },
  {
   "cell_type": "code",
   "execution_count": 29,
   "metadata": {},
   "outputs": [
    {
     "name": "stdout",
     "output_type": "stream",
     "text": [
      "Epoch 1/3: Batch 8176/8176\n",
      "Train Results: Loss: 5.692119832491454 | Perplexity: 296.5214538574219\n",
      "Test Results:  Loss: 3.8290756123356533 | Perplexity: 46.01997756958008\n",
      "----------------------------------------\n",
      "Epoch 2/3: Batch 8176/8176\n",
      "Train Results: Loss: 5.575459471770695 | Perplexity: 263.8707580566406\n",
      "Test Results:  Loss: 3.7741466798562953 | Perplexity: 43.560325622558594\n",
      "----------------------------------------\n",
      "Epoch 3/3: Batch 35/8176"
     ]
    },
    {
     "ename": "KeyboardInterrupt",
     "evalue": "",
     "output_type": "error",
     "traceback": [
      "\u001b[1;31m---------------------------------------------------------------------------\u001b[0m",
      "\u001b[1;31mKeyboardInterrupt\u001b[0m                         Traceback (most recent call last)",
      "Cell \u001b[1;32mIn[29], line 1\u001b[0m\n\u001b[1;32m----> 1\u001b[0m t2 \u001b[38;5;241m=\u001b[39m \u001b[43mtrain_model\u001b[49m\u001b[43m(\u001b[49m\n\u001b[0;32m      2\u001b[0m \u001b[43m    \u001b[49m\u001b[43mmodel\u001b[49m\u001b[43m,\u001b[49m\u001b[43m \u001b[49m\u001b[38;5;241;43m3\u001b[39;49m\u001b[43m,\u001b[49m\u001b[43m \u001b[49m\u001b[43mDataLoader\u001b[49m\u001b[43m(\u001b[49m\u001b[43mtrain_dataset\u001b[49m\u001b[43m,\u001b[49m\u001b[43m \u001b[49m\u001b[43mbatch_size\u001b[49m\u001b[38;5;241;43m=\u001b[39;49m\u001b[38;5;241;43m36\u001b[39;49m\u001b[43m)\u001b[49m\u001b[43m,\u001b[49m\u001b[43m \u001b[49m\u001b[43mDataLoader\u001b[49m\u001b[43m(\u001b[49m\u001b[43mtest_dataset\u001b[49m\u001b[43m,\u001b[49m\u001b[43m \u001b[49m\u001b[43mbatch_size\u001b[49m\u001b[38;5;241;43m=\u001b[39;49m\u001b[38;5;241;43m36\u001b[39;49m\u001b[43m)\u001b[49m\u001b[43m \u001b[49m\n\u001b[0;32m      3\u001b[0m \u001b[43m)\u001b[49m\n",
      "Cell \u001b[1;32mIn[28], line 44\u001b[0m, in \u001b[0;36mtrain_model\u001b[1;34m(model, num_epochs, train_dataloader, test_dataloader, verbose)\u001b[0m\n\u001b[0;32m     41\u001b[0m     loss\u001b[38;5;241m.\u001b[39mbackward()\n\u001b[0;32m     42\u001b[0m     optimizer\u001b[38;5;241m.\u001b[39mstep()\n\u001b[1;32m---> 44\u001b[0m     mean_loss \u001b[38;5;241m=\u001b[39m \u001b[43mloss\u001b[49m\u001b[38;5;241;43m.\u001b[39;49m\u001b[43mmean\u001b[49m\u001b[43m(\u001b[49m\u001b[43m)\u001b[49m\u001b[38;5;241;43m.\u001b[39;49m\u001b[43mto\u001b[49m\u001b[43m(\u001b[49m\u001b[38;5;124;43m'\u001b[39;49m\u001b[38;5;124;43mcpu\u001b[39;49m\u001b[38;5;124;43m'\u001b[39;49m\u001b[43m)\u001b[49m\u001b[38;5;241m.\u001b[39mitem()\n\u001b[0;32m     45\u001b[0m     total_train_loss \u001b[38;5;241m+\u001b[39m\u001b[38;5;241m=\u001b[39m mean_loss\n\u001b[0;32m     47\u001b[0m mean_train_loss \u001b[38;5;241m=\u001b[39m total_train_loss \u001b[38;5;241m/\u001b[39m \u001b[38;5;28mlen\u001b[39m(train_dataloader)\n",
      "\u001b[1;31mKeyboardInterrupt\u001b[0m: "
     ]
    }
   ],
   "source": [
    "t2 = train_model(\n",
    "    model, 3, DataLoader(train_dataset, batch_size=36), DataLoader(test_dataset, batch_size=36) \n",
    ")"
   ]
  },
  {
   "cell_type": "code",
   "execution_count": 101,
   "metadata": {},
   "outputs": [
    {
     "name": "stdout",
     "output_type": "stream",
     "text": [
      "Epoch 1/3: Batch 8162/8162\n",
      "Train Results: Loss: 3.0815138576136474 | Perplexity: 21.791366577148438\n",
      "Test Results:  Loss: 2.434022585218176 | Perplexity: 11.404666900634766\n",
      "----------------------------------------\n",
      "Epoch 2/3: Batch 61/8162"
     ]
    },
    {
     "ename": "KeyboardInterrupt",
     "evalue": "",
     "output_type": "error",
     "traceback": [
      "\u001b[1;31m---------------------------------------------------------------------------\u001b[0m",
      "\u001b[1;31mKeyboardInterrupt\u001b[0m                         Traceback (most recent call last)",
      "Cell \u001b[1;32mIn[101], line 1\u001b[0m\n\u001b[1;32m----> 1\u001b[0m t3 \u001b[38;5;241m=\u001b[39m \u001b[43mtrain_model\u001b[49m\u001b[43m(\u001b[49m\n\u001b[0;32m      2\u001b[0m \u001b[43m    \u001b[49m\u001b[43mmodel\u001b[49m\u001b[43m,\u001b[49m\u001b[43m \u001b[49m\u001b[38;5;241;43m3\u001b[39;49m\u001b[43m,\u001b[49m\u001b[43m \u001b[49m\u001b[43mDataLoader\u001b[49m\u001b[43m(\u001b[49m\u001b[43mtrain_dataset\u001b[49m\u001b[43m,\u001b[49m\u001b[43m \u001b[49m\u001b[43mbatch_size\u001b[49m\u001b[38;5;241;43m=\u001b[39;49m\u001b[38;5;241;43m36\u001b[39;49m\u001b[43m)\u001b[49m\u001b[43m,\u001b[49m\u001b[43m \u001b[49m\u001b[43mDataLoader\u001b[49m\u001b[43m(\u001b[49m\u001b[43mtest_dataset\u001b[49m\u001b[43m,\u001b[49m\u001b[43m \u001b[49m\u001b[43mbatch_size\u001b[49m\u001b[38;5;241;43m=\u001b[39;49m\u001b[38;5;241;43m36\u001b[39;49m\u001b[43m)\u001b[49m\n\u001b[0;32m      3\u001b[0m \u001b[43m)\u001b[49m\n",
      "Cell \u001b[1;32mIn[86], line 30\u001b[0m, in \u001b[0;36mtrain_model\u001b[1;34m(model, num_epochs, train_dataloader, test_dataloader, verbose)\u001b[0m\n\u001b[0;32m     26\u001b[0m test_perplexity \u001b[38;5;241m=\u001b[39m \u001b[38;5;241m0\u001b[39m\n\u001b[0;32m     28\u001b[0m model\u001b[38;5;241m.\u001b[39mtrain()\n\u001b[1;32m---> 30\u001b[0m \u001b[43m\u001b[49m\u001b[38;5;28;43;01mfor\u001b[39;49;00m\u001b[43m \u001b[49m\u001b[43m(\u001b[49m\u001b[43mbatch_index\u001b[49m\u001b[43m,\u001b[49m\u001b[43m \u001b[49m\u001b[43mbatch\u001b[49m\u001b[43m)\u001b[49m\u001b[43m \u001b[49m\u001b[38;5;129;43;01min\u001b[39;49;00m\u001b[43m \u001b[49m\u001b[38;5;28;43menumerate\u001b[39;49m\u001b[43m(\u001b[49m\u001b[43mtrain_dataloader\u001b[49m\u001b[43m)\u001b[49m\u001b[43m:\u001b[49m\n\u001b[0;32m     32\u001b[0m \u001b[43m    \u001b[49m\u001b[43m(\u001b[49m\u001b[43mQ_train\u001b[49m\u001b[43m,\u001b[49m\u001b[43m \u001b[49m\u001b[43mA_train\u001b[49m\u001b[43m,\u001b[49m\u001b[43m \u001b[49m\u001b[43mattention_mask\u001b[49m\u001b[43m)\u001b[49m\u001b[43m \u001b[49m\u001b[38;5;241;43m=\u001b[39;49m\u001b[43m \u001b[49m\u001b[43mbatch\u001b[49m\u001b[43m \u001b[49m\u001b[38;5;66;43;03m# Q, A = (BATCH_SIZE, SEQ_LENGTH)\u001b[39;49;00m\n\u001b[0;32m     34\u001b[0m \u001b[43m    \u001b[49m\u001b[38;5;28;43;01mif\u001b[39;49;00m\u001b[43m \u001b[49m\u001b[43mverbose\u001b[49m\u001b[43m:\u001b[49m\n",
      "File \u001b[1;32mc:\\Program Files\\Python\\Lib\\site-packages\\torch\\utils\\data\\dataloader.py:631\u001b[0m, in \u001b[0;36m_BaseDataLoaderIter.__next__\u001b[1;34m(self)\u001b[0m\n\u001b[0;32m    628\u001b[0m \u001b[38;5;28;01mif\u001b[39;00m \u001b[38;5;28mself\u001b[39m\u001b[38;5;241m.\u001b[39m_sampler_iter \u001b[38;5;129;01mis\u001b[39;00m \u001b[38;5;28;01mNone\u001b[39;00m:\n\u001b[0;32m    629\u001b[0m     \u001b[38;5;66;03m# TODO(https://github.com/pytorch/pytorch/issues/76750)\u001b[39;00m\n\u001b[0;32m    630\u001b[0m     \u001b[38;5;28mself\u001b[39m\u001b[38;5;241m.\u001b[39m_reset()  \u001b[38;5;66;03m# type: ignore[call-arg]\u001b[39;00m\n\u001b[1;32m--> 631\u001b[0m data \u001b[38;5;241m=\u001b[39m \u001b[38;5;28;43mself\u001b[39;49m\u001b[38;5;241;43m.\u001b[39;49m\u001b[43m_next_data\u001b[49m\u001b[43m(\u001b[49m\u001b[43m)\u001b[49m\n\u001b[0;32m    632\u001b[0m \u001b[38;5;28mself\u001b[39m\u001b[38;5;241m.\u001b[39m_num_yielded \u001b[38;5;241m+\u001b[39m\u001b[38;5;241m=\u001b[39m \u001b[38;5;241m1\u001b[39m\n\u001b[0;32m    633\u001b[0m \u001b[38;5;28;01mif\u001b[39;00m \u001b[38;5;28mself\u001b[39m\u001b[38;5;241m.\u001b[39m_dataset_kind \u001b[38;5;241m==\u001b[39m _DatasetKind\u001b[38;5;241m.\u001b[39mIterable \u001b[38;5;129;01mand\u001b[39;00m \\\n\u001b[0;32m    634\u001b[0m         \u001b[38;5;28mself\u001b[39m\u001b[38;5;241m.\u001b[39m_IterableDataset_len_called \u001b[38;5;129;01mis\u001b[39;00m \u001b[38;5;129;01mnot\u001b[39;00m \u001b[38;5;28;01mNone\u001b[39;00m \u001b[38;5;129;01mand\u001b[39;00m \\\n\u001b[0;32m    635\u001b[0m         \u001b[38;5;28mself\u001b[39m\u001b[38;5;241m.\u001b[39m_num_yielded \u001b[38;5;241m>\u001b[39m \u001b[38;5;28mself\u001b[39m\u001b[38;5;241m.\u001b[39m_IterableDataset_len_called:\n",
      "File \u001b[1;32mc:\\Program Files\\Python\\Lib\\site-packages\\torch\\utils\\data\\dataloader.py:675\u001b[0m, in \u001b[0;36m_SingleProcessDataLoaderIter._next_data\u001b[1;34m(self)\u001b[0m\n\u001b[0;32m    673\u001b[0m \u001b[38;5;28;01mdef\u001b[39;00m \u001b[38;5;21m_next_data\u001b[39m(\u001b[38;5;28mself\u001b[39m):\n\u001b[0;32m    674\u001b[0m     index \u001b[38;5;241m=\u001b[39m \u001b[38;5;28mself\u001b[39m\u001b[38;5;241m.\u001b[39m_next_index()  \u001b[38;5;66;03m# may raise StopIteration\u001b[39;00m\n\u001b[1;32m--> 675\u001b[0m     data \u001b[38;5;241m=\u001b[39m \u001b[38;5;28;43mself\u001b[39;49m\u001b[38;5;241;43m.\u001b[39;49m\u001b[43m_dataset_fetcher\u001b[49m\u001b[38;5;241;43m.\u001b[39;49m\u001b[43mfetch\u001b[49m\u001b[43m(\u001b[49m\u001b[43mindex\u001b[49m\u001b[43m)\u001b[49m  \u001b[38;5;66;03m# may raise StopIteration\u001b[39;00m\n\u001b[0;32m    676\u001b[0m     \u001b[38;5;28;01mif\u001b[39;00m \u001b[38;5;28mself\u001b[39m\u001b[38;5;241m.\u001b[39m_pin_memory:\n\u001b[0;32m    677\u001b[0m         data \u001b[38;5;241m=\u001b[39m _utils\u001b[38;5;241m.\u001b[39mpin_memory\u001b[38;5;241m.\u001b[39mpin_memory(data, \u001b[38;5;28mself\u001b[39m\u001b[38;5;241m.\u001b[39m_pin_memory_device)\n",
      "File \u001b[1;32mc:\\Program Files\\Python\\Lib\\site-packages\\torch\\utils\\data\\_utils\\fetch.py:51\u001b[0m, in \u001b[0;36m_MapDatasetFetcher.fetch\u001b[1;34m(self, possibly_batched_index)\u001b[0m\n\u001b[0;32m     49\u001b[0m         data \u001b[38;5;241m=\u001b[39m \u001b[38;5;28mself\u001b[39m\u001b[38;5;241m.\u001b[39mdataset\u001b[38;5;241m.\u001b[39m__getitems__(possibly_batched_index)\n\u001b[0;32m     50\u001b[0m     \u001b[38;5;28;01melse\u001b[39;00m:\n\u001b[1;32m---> 51\u001b[0m         data \u001b[38;5;241m=\u001b[39m [\u001b[38;5;28;43mself\u001b[39;49m\u001b[38;5;241;43m.\u001b[39;49m\u001b[43mdataset\u001b[49m\u001b[43m[\u001b[49m\u001b[43midx\u001b[49m\u001b[43m]\u001b[49m \u001b[38;5;28;01mfor\u001b[39;00m idx \u001b[38;5;129;01min\u001b[39;00m possibly_batched_index]\n\u001b[0;32m     52\u001b[0m \u001b[38;5;28;01melse\u001b[39;00m:\n\u001b[0;32m     53\u001b[0m     data \u001b[38;5;241m=\u001b[39m \u001b[38;5;28mself\u001b[39m\u001b[38;5;241m.\u001b[39mdataset[possibly_batched_index]\n",
      "Cell \u001b[1;32mIn[44], line 61\u001b[0m, in \u001b[0;36mQADataset.__getitem__\u001b[1;34m(self, index)\u001b[0m\n\u001b[0;32m     59\u001b[0m \u001b[38;5;28;01mdef\u001b[39;00m \u001b[38;5;21m__getitem__\u001b[39m(\u001b[38;5;28mself\u001b[39m, index: \u001b[38;5;28mint\u001b[39m):\n\u001b[0;32m     60\u001b[0m     inputs, ans \u001b[38;5;241m=\u001b[39m \u001b[38;5;28mself\u001b[39m\u001b[38;5;241m.\u001b[39mdataset[index]\n\u001b[1;32m---> 61\u001b[0m     \u001b[38;5;28;01mreturn\u001b[39;00m \u001b[43minputs\u001b[49m\u001b[38;5;241;43m.\u001b[39;49m\u001b[43minput_ids\u001b[49m\u001b[38;5;241;43m.\u001b[39;49m\u001b[43msqueeze\u001b[49m\u001b[43m(\u001b[49m\u001b[43m)\u001b[49m, ans, inputs\u001b[38;5;241m.\u001b[39mattention_mask\u001b[38;5;241m.\u001b[39msqueeze()\n",
      "\u001b[1;31mKeyboardInterrupt\u001b[0m: "
     ]
    }
   ],
   "source": [
    "t3 = train_model(\n",
    "    model, 3, DataLoader(train_dataset, batch_size=36), DataLoader(test_dataset, batch_size=36)\n",
    ")"
   ]
  },
  {
   "cell_type": "code",
   "execution_count": 23,
   "metadata": {},
   "outputs": [
    {
     "name": "stdout",
     "output_type": "stream",
     "text": [
      "Epoch 1/2: Batch 8163/8163\n",
      "Train Results: Loss: 2.6858557204354354 | Perplexity: 14.670748710632324\n",
      "Test Results:  Loss: 2.275292629376054 | Perplexity: 9.730766296386719\n",
      "----------------------------------------\n",
      "Epoch 2/2: Batch 8163/8163\n",
      "Train Results: Loss: 2.544431288671978 | Perplexity: 12.735981941223145\n",
      "Test Results:  Loss: 2.1840001071686856 | Perplexity: 8.881762504577637\n",
      "----------------------------------------\n"
     ]
    }
   ],
   "source": [
    "t4 = train_model(\n",
    "    model, 2, DataLoader(train_dataset, batch_size=36), DataLoader(test_dataset, batch_size=36)\n",
    ")"
   ]
  },
  {
   "cell_type": "code",
   "execution_count": 24,
   "metadata": {},
   "outputs": [],
   "source": [
    "torch.cuda.empty_cache()"
   ]
  },
  {
   "cell_type": "code",
   "execution_count": 25,
   "metadata": {},
   "outputs": [],
   "source": [
    "torch.save(model, './checkpoint4')"
   ]
  },
  {
   "cell_type": "code",
   "execution_count": 14,
   "metadata": {},
   "outputs": [
    {
     "name": "stderr",
     "output_type": "stream",
     "text": [
      "C:\\Users\\omarw\\AppData\\Roaming\\Python\\Python312\\site-packages\\huggingface_hub\\file_download.py:1132: FutureWarning: `resume_download` is deprecated and will be removed in version 1.0.0. Downloads always resume when possible. If you want to force a new download, use `force_download=True`.\n",
      "  warnings.warn(\n",
      "Special tokens have been added in the vocabulary, make sure the associated word embeddings are fine-tuned or trained.\n"
     ]
    }
   ],
   "source": [
    "tokenizer: T5Tokenizer = T5Tokenizer.from_pretrained('google/t5-efficient-tiny', legacy=False)\n",
    "\n",
    "device = 'cuda' if torch.cuda.is_available() else 'cpu'\n",
    "model = torch.load('./checkpoint4').to(device)"
   ]
  },
  {
   "cell_type": "code",
   "execution_count": 22,
   "metadata": {},
   "outputs": [],
   "source": [
    "training_results = TrainingResult(\n",
    "    num_epochs=8,\n",
    "    train_loss=[9.255488750432574, 6.667969923959323, 5.979713709029629, 5.692119832491454, 5.575459471770695, 3.0815138576136474, 2.6858557204354354, 2.544431288671978 ],\n",
    "    test_loss=[4.861909271102264, 4.151704169088794, 3.900352454022345, 3.8290756123356533, 3.7741466798562953, 2.434022585218176, 2.275292629376054, 2.1840001071686856 ],\n",
    "    train_perplexity=[10461.8271484375, 786.7965698242188, 395.3272399902344, 296.5214538574219, 263.8707580566406, 21.791366577148438, 14.670748710632324, 12.735981941223145],\n",
    "    test_perplexity=[129.2707977294922, 63.54220199584961, 49.419864654541016, 46.01997756958008, 43.560325622558594, 11.404666900634766, 9.730766296386719, 8.881762504577637]\n",
    ")"
   ]
  },
  {
   "cell_type": "code",
   "execution_count": 23,
   "metadata": {},
   "outputs": [
    {
     "data": {
      "image/png": "[encoded data removed]",
      "text/plain": [
       "<Figure size 640x480 with 1 Axes>"
      ]
     },
     "metadata": {},
     "output_type": "display_data"
    }
   ],
   "source": [
    "import matplotlib.pyplot as plt\n",
    "\n",
    "fig = plt.figure(1)\n",
    "fig.suptitle(\"Loss\")\n",
    "\n",
    "plt.plot(range(1, training_results.num_epochs + 1), training_results.train_loss, color='g', label='Train Loss')\n",
    "plt.plot(range(1, training_results.num_epochs + 1), training_results.test_loss, color='b', label='Test Loss')\n",
    "plt.xlabel(\"Epochs\")\n",
    "plt.ylabel(\"Loss (CrossEntropy)\")\n",
    "plt.legend()\n",
    "plt.show()"
   ]
  },
  {
   "cell_type": "code",
   "execution_count": 39,
   "metadata": {},
   "outputs": [
    {
     "data": {
      "image/png": "[encoded data removed]",
      "text/plain": [
       "<Figure size 640x480 with 1 Axes>"
      ]
     },
     "metadata": {},
     "output_type": "display_data"
    }
   ],
   "source": [
    "fig = plt.figure(1)\n",
    "fig.suptitle(\"Perplexity\")\n",
    "\n",
    "plt.plot(range(1, training_results.num_epochs + 1), training_results.train_perplexity, color='g', label='Train Perplexity')\n",
    "plt.plot(range(1, training_results.num_epochs + 1), training_results.test_perplexity, color='b', label='Test Perplexity')\n",
    "plt.xlabel(\"Epochs\")\n",
    "plt.ylim(bottom = 0, top=500)\n",
    "plt.ylabel(\"Perplexity\")\n",
    "plt.legend()\n",
    "plt.show()"
   ]
  },
  {
   "cell_type": "markdown",
   "metadata": {},
   "source": [
    "# Output Generation"
   ]
  },
  {
   "cell_type": "code",
   "execution_count": 15,
   "metadata": {},
   "outputs": [],
   "source": [
    "def generate_output(encoded_batch):\n",
    "    model.eval()\n",
    "    with torch.no_grad():\n",
    "        return model.generate(\n",
    "            input_ids=encoded_batch['input_ids'],\n",
    "            attention_mask=encoded_batch['attention_mask'],\n",
    "            max_new_tokens=60,\n",
    "            temperature=1.0,\n",
    "            top_p=0.95,\n",
    "            top_k=60,\n",
    "            repetition_penalty=1.0,\n",
    "            no_repeat_ngram_size=1,\n",
    "            use_cache=True,\n",
    "            do_sample=True,\n",
    "            num_beams=2,\n",
    "            eos_token_id=tokenizer.eos_token_id,\n",
    "            pad_token_id=tokenizer.pad_token_id\n",
    "        )"
   ]
  },
  {
   "cell_type": "code",
   "execution_count": 43,
   "metadata": {},
   "outputs": [
    {
     "data": {
      "text/plain": [
       "[\"AppleSupport: We'd be happy to help. What device are you using?\",\n",
       " \"AmazonHelp: I'm sorry for the delay. When you have a moment, please reach out to us via phone or chat so we can look into this further!KS\",\n",
       " \"Uber_Support: We're here to help! Send us a note at so our team can connect.\"]"
      ]
     },
     "execution_count": 43,
     "metadata": {},
     "output_type": "execute_result"
    }
   ],
   "source": [
    "batch = [\n",
    "    'Hello, my Iphone stopped working after the latest ios update. Can you help me?',\n",
    "    'My package has been marked as deliverd, but I didn\\'t receive anything. Fix this!!',\n",
    "    'I missed my doctor appointment today thanks to your driver. Please refund me the money '\n",
    "    ]\n",
    "\n",
    "encoded_batch = {\n",
    "    key: value.to(model.device)\n",
    "    for key, value in tokenizer(batch, return_tensors='pt', padding=True).items()\n",
    "}\n",
    "\n",
    "tokenizer.batch_decode(generate_output(encoded_batch), skip_special_tokens=True)"
   ]
  },
  {
   "cell_type": "code",
   "execution_count": 44,
   "metadata": {},
   "outputs": [],
   "source": [
    "class Chat:\n",
    "\n",
    "    def __init__(self, model, device) -> None:\n",
    "        self.model = model\n",
    "        self.device = device\n",
    "        self.context = []\n",
    "\n",
    "    def generate_answer(self, question: str) -> str:\n",
    "        \n",
    "        with torch.inference_mode():\n",
    "            model.eval()\n",
    "            \n",
    "            self.context.append(question)\n",
    "\n",
    "            encoded_batch = {\n",
    "                key: value.to(model.device)\n",
    "                for key, value in tokenizer(' '.join(self.context), return_tensors='pt', padding=True).items()\n",
    "            }\n",
    "\n",
    "            out = generate_output(encoded_batch)\n",
    "            answer = tokenizer.batch_decode(out, skip_special_tokens=True)[0]\n",
    "\n",
    "            self.context.append(answer)\n",
    "            return answer"
   ]
  },
  {
   "cell_type": "code",
   "execution_count": 45,
   "metadata": {},
   "outputs": [
    {
     "name": "stdout",
     "output_type": "stream",
     "text": [
      "Client> My internet conneciton is down for the last few hours. I cant work like that\n",
      "Agent>  Ask_Spectrum: I apologize for the issues you are having with your internet. Please send me a direct message, full address and phone number so we can look into this further? Thanks-JB\n",
      "Client> I sent you a DM. Can you take a look at it for me?\n",
      "Agent>  Ask_Spectrum: I apologize for the inconvenience. If you would like me to look into your account, please send us a direct message with an email address so we can follow up and assist further!-JP\n",
      "Client> I said I sent you a DM\n",
      "Agent>  Ask_Spectrum: I apologize for the inconvenience. Please DM your account number, phone # and address so we can look into this further with you? We will be happy to help!SB\n",
      "Client> "
     ]
    }
   ],
   "source": [
    "c = Chat(model, device)\n",
    "\n",
    "while True:\n",
    "    try:\n",
    "        print(\"Client> \", end='')\n",
    "        question = input()\n",
    "        print(question)\n",
    "        answer = c.generate_answer(question)\n",
    "        print(\"Agent> \", answer)\n",
    "    except KeyboardInterrupt:\n",
    "        break"
   ]
  },
  {
   "cell_type": "code",
   "execution_count": 46,
   "metadata": {},
   "outputs": [
    {
     "name": "stdout",
     "output_type": "stream",
     "text": [
      "Client> The flight attendant was rude to me during my previous flight\n",
      "Agent>  Delta: Please DM your confirmation number so I can assist you further. *TJH\n",
      "Client> My number is 193-203-123\n",
      "Agent>  Delta: I'm sorry for the delay. Please DM your confirmation number so we can look into this with you? *TJH\n",
      "Client> I already gave it to you\n",
      "Agent>  Delta: Hi, Ryan. Please DM your confirmation number so I can look into this for you? *AMC\n",
      "Client> \n",
      "Agent>  Delta: Hi, James. Please DM your confirmation number so I can look into this for you! *AFM\n",
      "Client> "
     ]
    }
   ],
   "source": [
    "c = Chat(model, device)\n",
    "\n",
    "while True:\n",
    "    try:\n",
    "        print(\"Client> \", end='')\n",
    "        question = input()\n",
    "        print(question)\n",
    "        answer = c.generate_answer(question)\n",
    "        print(\"Agent> \", answer)\n",
    "    except KeyboardInterrupt:\n",
    "        break"
   ]
  },
  {
   "cell_type": "code",
   "execution_count": 47,
   "metadata": {},
   "outputs": [
    {
     "name": "stdout",
     "output_type": "stream",
     "text": [
      "Client> Hello, my package was damaged when it arrived. Can I refund the order?\n",
      "Agent>  AmazonHelp: I'm sorry to hear this. Can you tell us more about what happened? SH\n",
      "Client> Your driver was careless with the package and everything was destroyed when I opened it\n",
      "Agent>  AmazonHelp: I'm sorry to hear this. Have you tried resetting your package? Let us know in real-time for the tracking and assistance with anything else!MA\n",
      "Client> :(\n",
      "Agent>  AmazonHelp: We'd like to look into this with you. Please reach out via phone or chat at the link provided earlier so we can assist further! MS\n",
      "Client> What is your phone number\n",
      "Agent>  AmazonHelp: I'm sorry for the delay. We are here to help! Can you please let us know more about what happened? JH\n",
      "Client> Give me your phoneeee\n",
      "Agent>  AmazonHelp: I'm sorry to hear about the delay. Could you confirm if your package was damaged? You can find more info here for further assistance with this via email and we will look into it soon!JH\n",
      "Client> "
     ]
    }
   ],
   "source": [
    "c = Chat(model, device)\n",
    "\n",
    "while True:\n",
    "    try:\n",
    "        print(\"Client> \", end='')\n",
    "        question = input()\n",
    "        print(question)\n",
    "        answer = c.generate_answer(question)\n",
    "        print(\"Agent> \", answer)\n",
    "    except KeyboardInterrupt:\n",
    "        break"
   ]
  }
 ],
 "metadata": {
  "kernelspec": {
   "display_name": "Python 3",
   "language": "python",
   "name": "python3"
  },
  "language_info": {
   "codemirror_mode": {
    "name": "ipython",
    "version": 3
   },
   "file_extension": ".py",
   "mimetype": "text/x-python",
   "name": "python",
   "nbconvert_exporter": "python",
   "pygments_lexer": "ipython3",
   "version": "3.12.2"
  }
 },
 "nbformat": 4,
 "nbformat_minor": 2
}
